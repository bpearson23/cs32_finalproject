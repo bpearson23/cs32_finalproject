{
 "cells": [
  {
   "cell_type": "code",
   "execution_count": null,
   "id": "57be8190-645b-4f93-8175-b77dabd8c91f",
   "metadata": {},
   "outputs": [],
   "source": []
  },
  {
   "cell_type": "code",
   "execution_count": 17,
   "id": "b66fc2f6-a6a5-467f-b8b6-ff561c5c09e1",
   "metadata": {},
   "outputs": [],
   "source": [
    "def clean_age(data):\n",
    "    \n",
    "    try:\n",
    "        data = data.lower()\n",
    "        if data.replace(\"year old\", '').strip() != data.strip():\n",
    "            return float(data.replace(\"year old\", '').strip())\n",
    "        else:\n",
    "            return float('nan')\n",
    "    except:\n",
    "        return float('nan')\n",
    "    \n",
    "def try_lower(data):\n",
    "    try:\n",
    "        return data.lower()\n",
    "    except:\n",
    "        return float('nan')\n",
    "        \n",
    "def fix_pct(data):\n",
    "    try:\n",
    "        return float(data.replace(\"%\", ''))\n",
    "    except:\n",
    "        return float('nan')\n",
    "    \n",
    "def fix_size(data):\n",
    "    try:\n",
    "        return float(data.replace(\"cl\", ''))\n",
    "    except:\n",
    "        return float('nan')\n",
    "    \n",
    "def to_number(data):\n",
    "    try:\n",
    "        return float(data)\n",
    "    except:\n",
    "        return float('nan')"
   ]
  },
  {
   "cell_type": "code",
   "execution_count": null,
   "id": "77c700a0-89e3-4b04-9955-18af09f64dbe",
   "metadata": {},
   "outputs": [],
   "source": []
  }
 ],
 "metadata": {
  "kernelspec": {
   "display_name": "Python 3",
   "language": "python",
   "name": "python3"
  },
  "language_info": {
   "codemirror_mode": {
    "name": "ipython",
    "version": 3
   },
   "file_extension": ".py",
   "mimetype": "text/x-python",
   "name": "python",
   "nbconvert_exporter": "python",
   "pygments_lexer": "ipython3",
   "version": "3.8.8"
  }
 },
 "nbformat": 4,
 "nbformat_minor": 5
}
