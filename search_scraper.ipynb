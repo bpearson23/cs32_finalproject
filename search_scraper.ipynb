{
 "cells": [
  {
   "cell_type": "code",
   "execution_count": 3,
   "id": "7a509b21-990f-47ce-9e58-92d77358aa2f",
   "metadata": {},
   "outputs": [],
   "source": [
    "%run fp_design.ipynb"
   ]
  },
  {
   "cell_type": "code",
   "execution_count": 14,
   "id": "07b87d4c-557c-48f8-a9b0-31c8765d1c36",
   "metadata": {},
   "outputs": [],
   "source": [
    "lots_dict = {}\n",
    "categories = ['Distillery', 'Age', 'Vintage', 'Region', 'Bottler', 'Cask Type', 'Bottled Strength', 'Bottle Size',\n",
    "              'Distillery Status']\n",
    "ua = UserAgent()\n",
    "date_format = \"%m.%d.%y\"\n",
    "per_page = 500"
   ]
  },
  {
   "cell_type": "code",
   "execution_count": 15,
   "id": "1d5c8804-5ce2-4e19-870d-2ad8bf61ed0a",
   "metadata": {},
   "outputs": [
    {
     "name": "stdin",
     "output_type": "stream",
     "text": [
      "What do you want to search for? pappy van winkle old family reserve\n"
     ]
    }
   ],
   "source": [
    "search = input(\"What do you want to search for?\")\n",
    "search_txt = search.replace(\" \", '+')\n",
    "\n",
    "search_url = f\"https://whiskyauctioneer.com/auction-search?text={search_txt}&sort=field_reference_field_end_date+DESC&items_per_page=500\""
   ]
  },
  {
   "cell_type": "code",
   "execution_count": 16,
   "id": "86691d0c-79a9-4fc2-a68e-373469ca7d63",
   "metadata": {},
   "outputs": [],
   "source": [
    "def search_scraper():\n",
    "    '''Scrapes data from Whiskey Auctioneer and saves to dictionary'''\n",
    "    \n",
    "    # more_new_data = True\n",
    "\n",
    "    # URL of the first page of results\n",
    "    url_stem = search_url\n",
    "    \n",
    "    url = True\n",
    "    \n",
    "    try:\n",
    "        live_url = \"https://whiskyauctioneer.com/current-auction\"\n",
    "        page = requests.get(live_url, headers={'user-agent': ua.random})\n",
    "        soup = BeautifulSoup(page.content, \"html.parser\")\n",
    "        start_page = math.floor(int(re.findall(r'\\d+', soup.find(\"p\", class_ = \"left\").text)[0]) / per_page)-1\n",
    "        i = start_page\n",
    "        \n",
    "    except:\n",
    "        i = 0\n",
    "    \n",
    "    # Loop through remaining pages until you get to where there aren't any more\n",
    "    while url:\n",
    "        \n",
    "        if i == 0:\n",
    "            url = url_stem\n",
    "        else:\n",
    "            url = url_stem + f'?page={i}'\n",
    "\n",
    "        page = requests.get(url, headers={'user-agent': ua.random})\n",
    "        soup = BeautifulSoup(page.content, \"html.parser\")\n",
    "        \n",
    "        result_1 = soup.find(\"div\", class_ =\"views-row views-row-1 views-row-odd views-row-first producthomepage\")\n",
    "        result = result_1\n",
    "        \n",
    "        # Now we need to iterate through the lots on the page\n",
    "        while result != None:\n",
    "\n",
    "            lot_dict = {}\n",
    "            \n",
    "            lot_num = int(re.findall(r'\\d+', result.find(\"span\", class_ = \"lotnumber label-lot\").text)[0])\n",
    "            if lot_num in list(scraped_data.index):\n",
    "                \n",
    "                more_new_data = False\n",
    "                result = result.nextSibling\n",
    "                continue\n",
    "            \n",
    "            # Skip this iteration if the lot is part of a current auction:\n",
    "            if \"Bid Now\" in result.text:\n",
    "                result = result.nextSibling\n",
    "                continue\n",
    "                 \n",
    "            lot_dict[\"name\"] = result.find(\"a\")[\"_title\"]\n",
    "            lot_dict[\"price\"] = int(''.join(re.findall(r'\\d+', result.find(\"div\", class_ = \"lotwin cru\").text)))\n",
    "            if \"Reserve not met\" in result.find(\"div\", class_ = \"lotwin cru\").text:\n",
    "                lot_dict['reserve_met'] = 0\n",
    "            elif \"Reserve has been met\" in result.find(\"div\", class_ = \"lotwin cru\").text:\n",
    "                lot_dict['reserve_met'] = 1\n",
    "            lot_dict['end_date'] = datetime.strptime(result.find(\"div\", \n",
    "                                class_ = \"enddatein\").text.split(':')[1].strip(), date_format).date()\n",
    "            lot_num = int(re.findall(r'\\d+', result.find(\"span\", class_ = \"lotnumber label-lot\").text)[0])\n",
    "               \n",
    "            # Get lot site\n",
    "            lot_url = result.find(\"a\", href=True)['href']\n",
    "           \n",
    "            \n",
    "            lot_page = requests.get(lot_url, headers={'user-agent': ua.random})\n",
    "            lot_soup = BeautifulSoup(lot_page.content, \"html.parser\")\n",
    "            \n",
    "            \n",
    "            try:\n",
    "                child = lot_soup.find(\"div\", class_ = \"whiskyproduct\").findChild()\n",
    "            except:\n",
    "                print(lot_url)\n",
    "                result = result.nextSibling\n",
    "                continue\n",
    "            # Iterate through children to get all info\n",
    "            while child:\n",
    "                \n",
    "                for val in categories:\n",
    "                    if val in child.text:\n",
    "                        cat = val\n",
    "                        \n",
    "                value = str(child.text).replace(\"\\xa0\", '').split(':')[1]\n",
    "                \n",
    "                lot_dict[cat] = value\n",
    "                \n",
    "                child = child.nextSibling\n",
    "                \n",
    "            prod_details = lot_soup.find(\"div\", {\"class\": \"field-item even\", \n",
    "                                                 \"property\": \"content:encoded\"}).text.replace(\"\\xa0\", '')\n",
    "            \n",
    "            lot_dict['details'] = prod_details\n",
    "                \n",
    "            lots_dict[lot_num] = lot_dict\n",
    "            \n",
    "            # This iterates the loop to the next lot\n",
    "            result = result.nextSibling\n",
    "            \n",
    "            time.sleep(3)\n",
    "        \n",
    "        print(f\"Done page {i}\")\n",
    "        i += 1\n",
    "        time.sleep(3)\n",
    "         \n",
    "        \n",
    "    return lots_dict\n",
    "        "
   ]
  },
  {
   "cell_type": "code",
   "execution_count": 17,
   "id": "9bc25250-3fad-465c-88a0-dced0d9b9dac",
   "metadata": {},
   "outputs": [
    {
     "ename": "ValueError",
     "evalue": "time data '23.05.22' does not match format '%m.%d.%y'",
     "output_type": "error",
     "traceback": [
      "\u001b[0;31m---------------------------------------------------------------------------\u001b[0m",
      "\u001b[0;31mValueError\u001b[0m                                Traceback (most recent call last)",
      "\u001b[0;32m<ipython-input-17-780f7c0112e9>\u001b[0m in \u001b[0;36m<module>\u001b[0;34m\u001b[0m\n\u001b[0;32m----> 1\u001b[0;31m \u001b[0msearch_scraper\u001b[0m\u001b[0;34m(\u001b[0m\u001b[0;34m)\u001b[0m\u001b[0;34m\u001b[0m\u001b[0;34m\u001b[0m\u001b[0m\n\u001b[0m",
      "\u001b[0;32m<ipython-input-16-622ce6df16ef>\u001b[0m in \u001b[0;36msearch_scraper\u001b[0;34m()\u001b[0m\n\u001b[1;32m     56\u001b[0m             \u001b[0;32melif\u001b[0m \u001b[0;34m\"Reserve has been met\"\u001b[0m \u001b[0;32min\u001b[0m \u001b[0mresult\u001b[0m\u001b[0;34m.\u001b[0m\u001b[0mfind\u001b[0m\u001b[0;34m(\u001b[0m\u001b[0;34m\"div\"\u001b[0m\u001b[0;34m,\u001b[0m \u001b[0mclass_\u001b[0m \u001b[0;34m=\u001b[0m \u001b[0;34m\"lotwin cru\"\u001b[0m\u001b[0;34m)\u001b[0m\u001b[0;34m.\u001b[0m\u001b[0mtext\u001b[0m\u001b[0;34m:\u001b[0m\u001b[0;34m\u001b[0m\u001b[0;34m\u001b[0m\u001b[0m\n\u001b[1;32m     57\u001b[0m                 \u001b[0mlot_dict\u001b[0m\u001b[0;34m[\u001b[0m\u001b[0;34m'reserve_met'\u001b[0m\u001b[0;34m]\u001b[0m \u001b[0;34m=\u001b[0m \u001b[0;36m1\u001b[0m\u001b[0;34m\u001b[0m\u001b[0;34m\u001b[0m\u001b[0m\n\u001b[0;32m---> 58\u001b[0;31m             lot_dict['end_date'] = datetime.strptime(result.find(\"div\", \n\u001b[0m\u001b[1;32m     59\u001b[0m                                 class_ = \"enddatein\").text.split(':')[1].strip(), date_format).date()\n\u001b[1;32m     60\u001b[0m             \u001b[0mlot_num\u001b[0m \u001b[0;34m=\u001b[0m \u001b[0mint\u001b[0m\u001b[0;34m(\u001b[0m\u001b[0mre\u001b[0m\u001b[0;34m.\u001b[0m\u001b[0mfindall\u001b[0m\u001b[0;34m(\u001b[0m\u001b[0;34mr'\\d+'\u001b[0m\u001b[0;34m,\u001b[0m \u001b[0mresult\u001b[0m\u001b[0;34m.\u001b[0m\u001b[0mfind\u001b[0m\u001b[0;34m(\u001b[0m\u001b[0;34m\"span\"\u001b[0m\u001b[0;34m,\u001b[0m \u001b[0mclass_\u001b[0m \u001b[0;34m=\u001b[0m \u001b[0;34m\"lotnumber label-lot\"\u001b[0m\u001b[0;34m)\u001b[0m\u001b[0;34m.\u001b[0m\u001b[0mtext\u001b[0m\u001b[0;34m)\u001b[0m\u001b[0;34m[\u001b[0m\u001b[0;36m0\u001b[0m\u001b[0;34m]\u001b[0m\u001b[0;34m)\u001b[0m\u001b[0;34m\u001b[0m\u001b[0;34m\u001b[0m\u001b[0m\n",
      "\u001b[0;32m~/opt/anaconda3/lib/python3.8/_strptime.py\u001b[0m in \u001b[0;36m_strptime_datetime\u001b[0;34m(cls, data_string, format)\u001b[0m\n\u001b[1;32m    566\u001b[0m     \"\"\"Return a class cls instance based on the input string and the\n\u001b[1;32m    567\u001b[0m     format string.\"\"\"\n\u001b[0;32m--> 568\u001b[0;31m     \u001b[0mtt\u001b[0m\u001b[0;34m,\u001b[0m \u001b[0mfraction\u001b[0m\u001b[0;34m,\u001b[0m \u001b[0mgmtoff_fraction\u001b[0m \u001b[0;34m=\u001b[0m \u001b[0m_strptime\u001b[0m\u001b[0;34m(\u001b[0m\u001b[0mdata_string\u001b[0m\u001b[0;34m,\u001b[0m \u001b[0mformat\u001b[0m\u001b[0;34m)\u001b[0m\u001b[0;34m\u001b[0m\u001b[0;34m\u001b[0m\u001b[0m\n\u001b[0m\u001b[1;32m    569\u001b[0m     \u001b[0mtzname\u001b[0m\u001b[0;34m,\u001b[0m \u001b[0mgmtoff\u001b[0m \u001b[0;34m=\u001b[0m \u001b[0mtt\u001b[0m\u001b[0;34m[\u001b[0m\u001b[0;34m-\u001b[0m\u001b[0;36m2\u001b[0m\u001b[0;34m:\u001b[0m\u001b[0;34m]\u001b[0m\u001b[0;34m\u001b[0m\u001b[0;34m\u001b[0m\u001b[0m\n\u001b[1;32m    570\u001b[0m     \u001b[0margs\u001b[0m \u001b[0;34m=\u001b[0m \u001b[0mtt\u001b[0m\u001b[0;34m[\u001b[0m\u001b[0;34m:\u001b[0m\u001b[0;36m6\u001b[0m\u001b[0;34m]\u001b[0m \u001b[0;34m+\u001b[0m \u001b[0;34m(\u001b[0m\u001b[0mfraction\u001b[0m\u001b[0;34m,\u001b[0m\u001b[0;34m)\u001b[0m\u001b[0;34m\u001b[0m\u001b[0;34m\u001b[0m\u001b[0m\n",
      "\u001b[0;32m~/opt/anaconda3/lib/python3.8/_strptime.py\u001b[0m in \u001b[0;36m_strptime\u001b[0;34m(data_string, format)\u001b[0m\n\u001b[1;32m    347\u001b[0m     \u001b[0mfound\u001b[0m \u001b[0;34m=\u001b[0m \u001b[0mformat_regex\u001b[0m\u001b[0;34m.\u001b[0m\u001b[0mmatch\u001b[0m\u001b[0;34m(\u001b[0m\u001b[0mdata_string\u001b[0m\u001b[0;34m)\u001b[0m\u001b[0;34m\u001b[0m\u001b[0;34m\u001b[0m\u001b[0m\n\u001b[1;32m    348\u001b[0m     \u001b[0;32mif\u001b[0m \u001b[0;32mnot\u001b[0m \u001b[0mfound\u001b[0m\u001b[0;34m:\u001b[0m\u001b[0;34m\u001b[0m\u001b[0;34m\u001b[0m\u001b[0m\n\u001b[0;32m--> 349\u001b[0;31m         raise ValueError(\"time data %r does not match format %r\" %\n\u001b[0m\u001b[1;32m    350\u001b[0m                          (data_string, format))\n\u001b[1;32m    351\u001b[0m     \u001b[0;32mif\u001b[0m \u001b[0mlen\u001b[0m\u001b[0;34m(\u001b[0m\u001b[0mdata_string\u001b[0m\u001b[0;34m)\u001b[0m \u001b[0;34m!=\u001b[0m \u001b[0mfound\u001b[0m\u001b[0;34m.\u001b[0m\u001b[0mend\u001b[0m\u001b[0;34m(\u001b[0m\u001b[0;34m)\u001b[0m\u001b[0;34m:\u001b[0m\u001b[0;34m\u001b[0m\u001b[0;34m\u001b[0m\u001b[0m\n",
      "\u001b[0;31mValueError\u001b[0m: time data '23.05.22' does not match format '%m.%d.%y'"
     ]
    }
   ],
   "source": [
    "search_scraper()"
   ]
  },
  {
   "cell_type": "code",
   "execution_count": 18,
   "id": "a1c849b3-bd92-4fc4-8de2-3917ccbabd5c",
   "metadata": {},
   "outputs": [],
   "source": [
    "scraped_data_cur = pd.DataFrame.from_dict(lots_dict, orient = \"index\")"
   ]
  },
  {
   "cell_type": "code",
   "execution_count": 20,
   "id": "835beedc-4d83-4b34-8a3a-c6e0729ee5aa",
   "metadata": {},
   "outputs": [],
   "source": [
    "scraped_data_cur.to_csv(\"scraped_data_cur.csv\")"
   ]
  },
  {
   "cell_type": "code",
   "execution_count": null,
   "id": "88b05a63-8e24-41d7-bd7f-d9f6ba9363d0",
   "metadata": {},
   "outputs": [],
   "source": [
    "scraped"
   ]
  }
 ],
 "metadata": {
  "kernelspec": {
   "display_name": "Python 3",
   "language": "python",
   "name": "python3"
  },
  "language_info": {
   "codemirror_mode": {
    "name": "ipython",
    "version": 3
   },
   "file_extension": ".py",
   "mimetype": "text/x-python",
   "name": "python",
   "nbconvert_exporter": "python",
   "pygments_lexer": "ipython3",
   "version": "3.8.8"
  }
 },
 "nbformat": 4,
 "nbformat_minor": 5
}
