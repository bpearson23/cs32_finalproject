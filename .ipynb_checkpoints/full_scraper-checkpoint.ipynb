{
 "cells": [
  {
   "cell_type": "markdown",
   "id": "9469ca89-3430-4226-b1bc-e9d9405d6d3a",
   "metadata": {},
   "source": [
    "# Imports\n"
   ]
  },
  {
   "cell_type": "code",
   "execution_count": 13,
   "id": "15976d43-13fd-45d9-925b-4ba76cb08b87",
   "metadata": {},
   "outputs": [],
   "source": [
    "import pandas as pd\n",
    "import numpy as np\n",
    "import requests\n",
    "from bs4 import BeautifulSoup\n",
    "import re\n",
    "from datetime import datetime\n",
    "import math\n",
    "import time\n",
    "from fake_useragent import UserAgent\n",
    "import validators\n",
    "import matplotlib.pyplot as plt"
   ]
  },
  {
   "cell_type": "code",
   "execution_count": 192,
   "id": "8a950bfa-9192-46ab-9e07-2c71ecd7fd3f",
   "metadata": {},
   "outputs": [],
   "source": [
    "%run library.ipynb"
   ]
  },
  {
   "cell_type": "markdown",
   "id": "259db3af-580b-43a2-84aa-5a6c91a5ea5a",
   "metadata": {},
   "source": [
    "# Load in Existing Dataset:"
   ]
  },
  {
   "cell_type": "code",
   "execution_count": 125,
   "id": "e4030e18-86f6-4220-9892-56d9b8248c36",
   "metadata": {},
   "outputs": [],
   "source": [
    "scraped_data = pd.read_csv(\"scraped_data_old.csv\")\n",
    "scraped_data.set_index(list(scraped_data.columns)[0], inplace=True)"
   ]
  },
  {
   "cell_type": "code",
   "execution_count": 3,
   "id": "8c4fc38a-d40e-4b66-92dc-fef0a42e1011",
   "metadata": {},
   "outputs": [],
   "source": [
    "# just scrape wild turkey\n",
    "# adjusted by mean price increase from last auction\n",
    "# basket of bourbons, scotches, japanese - look for differences in pricing\n"
   ]
  },
  {
   "cell_type": "markdown",
   "id": "46863066-1b55-4e53-b33e-e55ef328c591",
   "metadata": {},
   "source": [
    "# OG Scraping"
   ]
  },
  {
   "cell_type": "code",
   "execution_count": 38,
   "id": "34b731de-c304-45a7-8810-38948aff9665",
   "metadata": {},
   "outputs": [],
   "source": [
    "lots_dict = {}\n",
    "categories = ['Distillery', 'Age', 'Vintage', 'Region', 'Bottler', 'Cask Type', 'Bottled Strength', 'Bottle Size',\n",
    "             'Distillery Status']\n",
    "ua = UserAgent()\n",
    "date_format = \"%d.%m.%y\"\n",
    "per_page = 40\n"
   ]
  },
  {
   "cell_type": "code",
   "execution_count": 81,
   "id": "0f4802d5-88e7-42bd-9fec-a95290b76ef2",
   "metadata": {},
   "outputs": [],
   "source": [
    "date_format = \"%y.%d.%m\""
   ]
  },
  {
   "cell_type": "code",
   "execution_count": 39,
   "id": "5cda5889-09cc-4ce8-b51d-0031321f4b89",
   "metadata": {},
   "outputs": [],
   "source": [
    "def og_scraper():\n",
    "    '''Scrapes data from Whiskey Auctioneer and saves to dictionary'''\n",
    "    \n",
    "    # more_new_data = True\n",
    "\n",
    "    # URL of the first page of results\n",
    "    url_stem = \"https://whiskyauctioneer.com/auction-search\"\n",
    "    \n",
    "    url = True\n",
    "    \n",
    "    try:\n",
    "        live_url = \"https://whiskyauctioneer.com/current-auction\"\n",
    "        page = requests.get(live_url, headers={'user-agent': ua.random})\n",
    "        soup = BeautifulSoup(page.content, \"html.parser\")\n",
    "        start_page = math.floor(int(re.findall(r'\\d+', soup.find(\"p\", class_ = \"left\").text)[0]) / per_page)-1\n",
    "        i = start_page\n",
    "        \n",
    "    except:\n",
    "        #i = 0\n",
    "        i = 369\n",
    "    \n",
    "    # Loop through remaining pages until you get to where there aren't any more\n",
    "    while url:\n",
    "        \n",
    "        if i == 0:\n",
    "            url = url_stem\n",
    "        else:\n",
    "            url = url_stem + f'?page={i}'\n",
    "\n",
    "        page = requests.get(url, headers={'user-agent': ua.random})\n",
    "        soup = BeautifulSoup(page.content, \"html.parser\")\n",
    "        \n",
    "        result_1 = soup.find(\"div\", class_ =\"views-row views-row-1 views-row-odd views-row-first producthomepage\")\n",
    "        result = result_1\n",
    "        \n",
    "        # Now we need to iterate through the lots on the page\n",
    "        while result != None:\n",
    "\n",
    "            lot_dict = {}\n",
    "            \n",
    "            lot_num = int(re.findall(r'\\d+', result.find(\"span\", class_ = \"lotnumber label-lot\").text)[0])\n",
    "            if lot_num in list(scraped_data.index):\n",
    "                \n",
    "                more_new_data = False\n",
    "                result = result.nextSibling\n",
    "                continue\n",
    "            \n",
    "            # Skip this iteration if the lot is part of a current auction:\n",
    "            if \"Bid Now\" in result.text:\n",
    "                result = result.nextSibling\n",
    "                continue\n",
    "                 \n",
    "            lot_dict[\"name\"] = result.find(\"a\")[\"_title\"]\n",
    "            lot_dict[\"price\"] = int(''.join(re.findall(r'\\d+', result.find(\"div\", class_ = \"lotwin cru\").text)))\n",
    "            if \"Reserve not met\" in result.find(\"div\", class_ = \"lotwin cru\").text:\n",
    "                lot_dict['reserve_met'] = 0\n",
    "            elif \"Reserve has been met\" in result.find(\"div\", class_ = \"lotwin cru\").text:\n",
    "                lot_dict['reserve_met'] = 1\n",
    "            lot_dict['end_date'] = datetime.strptime(result.find(\"div\", \n",
    "                                class_ = \"enddatein\").text.split(':')[1].strip(), date_format).date()\n",
    "            lot_num = int(re.findall(r'\\d+', result.find(\"span\", class_ = \"lotnumber label-lot\").text)[0])\n",
    "               \n",
    "            # Get lot site\n",
    "            lot_url = result.find(\"a\", href=True)['href']\n",
    "           \n",
    "            \n",
    "            lot_page = requests.get(lot_url, headers={'user-agent': ua.random})\n",
    "            lot_soup = BeautifulSoup(lot_page.content, \"html.parser\")\n",
    "            \n",
    "            \n",
    "            try:\n",
    "                child = lot_soup.find(\"div\", class_ = \"whiskyproduct\").findChild()\n",
    "            except:\n",
    "                print(lot_url)\n",
    "                result = result.nextSibling\n",
    "                continue\n",
    "            # Iterate through children to get all info\n",
    "            while child:\n",
    "                \n",
    "                for val in categories:\n",
    "                    if val in child.text:\n",
    "                        cat = val\n",
    "                        \n",
    "                value = str(child.text).replace(\"\\xa0\", '').split(':')[1]\n",
    "                \n",
    "                lot_dict[cat] = value\n",
    "                \n",
    "                child = child.nextSibling\n",
    "                \n",
    "            prod_details = lot_soup.find(\"div\", {\"class\": \"field-item even\", \n",
    "                                                 \"property\": \"content:encoded\"}).text.replace(\"\\xa0\", '')\n",
    "            \n",
    "            lot_dict['details'] = prod_details\n",
    "                \n",
    "            lots_dict[lot_num] = lot_dict\n",
    "            \n",
    "            # This iterates the loop to the next lot\n",
    "            result = result.nextSibling\n",
    "            \n",
    "            time.sleep(3)\n",
    "        \n",
    "        print(f\"Done page {i}\")\n",
    "        i += 1\n",
    "        time.sleep(3)\n",
    "         \n",
    "        \n",
    "    return lots_dict\n",
    "        "
   ]
  },
  {
   "cell_type": "code",
   "execution_count": 40,
   "id": "c3466074-2249-49e1-ae41-44b09e99b125",
   "metadata": {
    "tags": []
   },
   "outputs": [],
   "source": [
    "#og_scraper()"
   ]
  },
  {
   "cell_type": "code",
   "execution_count": 36,
   "id": "d7bc860e-dd1d-4475-a064-2ab85cba795c",
   "metadata": {},
   "outputs": [],
   "source": [
    "scraped_data_cur = pd.DataFrame.from_dict(lots_dict, orient = \"index\")\n",
    "scraped_data = pd.concat([scraped_data, scraped_data_cur])\n",
    "# REMEMBER TO RESET START NUMBER AND CLEAR LOTS DICT"
   ]
  },
  {
   "cell_type": "code",
   "execution_count": 37,
   "id": "ccb99985-deb7-49db-820d-cb7cfe15a387",
   "metadata": {},
   "outputs": [],
   "source": [
    "scraped_data.to_csv(\"scraped_data.csv\")"
   ]
  },
  {
   "cell_type": "markdown",
   "id": "d47d35a4-8932-4a86-bae2-9f876de363d6",
   "metadata": {},
   "source": [
    "# Iterative Scraping"
   ]
  },
  {
   "cell_type": "code",
   "execution_count": 281,
   "id": "e375a205-e1cb-49c1-9977-a016baa0027b",
   "metadata": {},
   "outputs": [],
   "source": [
    "def scraper():\n",
    "    '''Scrapes data from Whiskey Auctioneer and saves to dictionary'''\n",
    "    \n",
    "    more_new_data = True\n",
    "\n",
    "    # URL of the first page of results\n",
    "    url_stem = \"https://whiskyauctioneer.com/auction-search\"\n",
    "    \n",
    "    url = True\n",
    "    \n",
    "    live_url = \"https://whiskyauctioneer.com/current-auction\"\n",
    "    page = requests.get(live_url, headers=headers)\n",
    "    soup = BeautifulSoup(page.content, \"html.parser\")\n",
    "    start_page = math.floor(int(re.findall(r'\\d+', soup.find(\"p\", class_ = \"left\").text)[0]) / per_page)-1\n",
    "    \n",
    "    i = start_page\n",
    "    #i = 209\n",
    "    \n",
    "    # Loop through remaining pages until you get to where there aren't any more\n",
    "    while url and more_new_data:\n",
    "        print(i)\n",
    "        \n",
    "        if i == 0:\n",
    "            url = url_stem\n",
    "        else:\n",
    "            url = url_stem + f'?page={i}'\n",
    "\n",
    "        page = requests.get(url, headers=headers)\n",
    "        soup = BeautifulSoup(page.content, \"html.parser\")\n",
    "        \n",
    "        result_1 = soup.find(\"div\", class_ =\"views-row views-row-1 views-row-odd views-row-first producthomepage\")\n",
    "        result = result_1\n",
    "        # Now we need to iterate through the lots on the page\n",
    "        while result and more_new_data:\n",
    "            lot_dict = {}\n",
    "            \n",
    "            lot_num = int(re.findall(r'\\d+', result.find(\"span\", class_ = \"lotnumber label-lot\").text)[0])\n",
    "            if lot_num in list(scraped_data.index):\n",
    "                more_new_data = False\n",
    "            \n",
    "            # Skip this iteration if the lot is part of a current auction:\n",
    "            if \"Bid Now\" in result.text:\n",
    "                result = result.nextSibling\n",
    "                continue\n",
    "                 \n",
    "            lot_dict[\"name\"] = result.find(\"a\")[\"_title\"]\n",
    "            lot_dict[\"price\"] = int(''.join(re.findall(r'\\d+', result.find(\"div\", class_ = \"lotwin cru\").text)))\n",
    "            lot_dict['reserve_met'] = 1 if \"Reserve not met\" in result.find(\"div\", class_ = \"lotwin cru\").text else 0\n",
    "            lot_dict['end_date'] = datetime.strptime(result.find(\"div\", \n",
    "                                class_ = \"enddatein\").text.split(':')[1].strip(), date_format).date()\n",
    "            lot_num = int(re.findall(r'\\d+', result.find(\"span\", class_ = \"lotnumber label-lot\").text)[0])\n",
    "               \n",
    "            # Get lot site\n",
    "            lot_url = result.find(\"a\", href=True)['href']\n",
    "            \n",
    "            lot_page = requests.get(lot_url, headers=headers)\n",
    "            lot_soup = BeautifulSoup(lot_page.content, \"html.parser\")\n",
    "            \n",
    "            child = lot_soup.find(\"div\", class_ = \"whiskyproduct\").findChild()\n",
    "            # Iterate through children to get all info\n",
    "            while child:\n",
    "                \n",
    "                for val in categories:\n",
    "                    if val in child.text:\n",
    "                        cat = val\n",
    "                        \n",
    "                value = str(child.text).replace(\"\\xa0\", '').split(':')[1]\n",
    "                \n",
    "                lot_dict[cat] = value\n",
    "                \n",
    "                child = child.nextSibling\n",
    "                \n",
    "            prod_details = lot_soup.find(\"div\", {\"class\": \"field-item even\", \n",
    "                                                 \"property\": \"content:encoded\"}).text.replace(\"\\xa0\", '')\n",
    "            \n",
    "            lot_dict['details'] = prod_details\n",
    "                \n",
    "            lots_dict[lot_num] = lot_dict\n",
    "            \n",
    "            # This iterates the loop to the next lot\n",
    "            result = result.nextSibling\n",
    "        \n",
    "        i += 1\n",
    "        time.sleep(3)\n",
    "         \n",
    "        \n",
    "    return lots_dict\n",
    "        "
   ]
  },
  {
   "cell_type": "code",
   "execution_count": 284,
   "id": "2ea7affe-cb80-4d38-9305-8314331ed36c",
   "metadata": {},
   "outputs": [],
   "source": [
    "#scraper()"
   ]
  },
  {
   "cell_type": "code",
   "execution_count": 277,
   "id": "98f0b541-c25c-4465-85db-e6b561e2742c",
   "metadata": {},
   "outputs": [],
   "source": [
    "scraped_data = pd.DataFrame.from_dict(lots_dict, orient = \"index\")\n",
    "scraped_data.to_csv(\"scraped_data.csv\")"
   ]
  },
  {
   "cell_type": "markdown",
   "id": "a97790af-4b9c-467f-b7af-11ba898d9dbc",
   "metadata": {},
   "source": [
    "# Data Cleaning"
   ]
  },
  {
   "cell_type": "code",
   "execution_count": 194,
   "id": "f24ccef1-bfad-466b-96bd-17727427a644",
   "metadata": {},
   "outputs": [],
   "source": [
    "scraped_data_clean = scraped_data.copy()\n",
    "\n",
    "scraped_data_clean['end_date'] = pd.to_datetime(scraped_data['end_date'], format='%Y-%d-%m')\n",
    "\n",
    "scraped_data_clean['Age'] = scraped_data['Age'].apply(clean_age)\n",
    "\n",
    "scraped_data_clean['name'] = [i.lower() for i in scraped_data['name']]\n",
    "\n",
    "scraped_data_clean.Distillery = scraped_data.Distillery.apply(try_lower)"
   ]
  },
  {
   "cell_type": "markdown",
   "id": "166ca2a8-0287-4ceb-87c1-0481ec2ac6cf",
   "metadata": {},
   "source": [
    "# Output"
   ]
  },
  {
   "cell_type": "code",
   "execution_count": 195,
   "id": "93c199f7-35bb-4878-a6ad-d075d059186a",
   "metadata": {},
   "outputs": [
    {
     "data": {
      "text/plain": [
       "Unnamed: 0\n",
       "6182043         caol ila\n",
       "6182044         midleton\n",
       "6182045             yuza\n",
       "5119084       port ellen\n",
       "6182046    bruichladdich\n",
       "               ...      \n",
       "7001235          nc'nean\n",
       "5113680         macallan\n",
       "7001291          nc'nean\n",
       "5116933          nc'nean\n",
       "5118056              NaN\n",
       "Name: Distillery, Length: 14416, dtype: object"
      ]
     },
     "execution_count": 195,
     "metadata": {},
     "output_type": "execute_result"
    }
   ],
   "source": [
    "scraped_data_clean.Distillery"
   ]
  },
  {
   "cell_type": "code",
   "execution_count": 198,
   "id": "054d4caa-f6a6-49b1-8703-50e1a68d7f9d",
   "metadata": {},
   "outputs": [
    {
     "name": "stdin",
     "output_type": "stream",
     "text": [
      "What are you looking for? pappy van winkle\n",
      "Any particular year? Year Options: ['15', '20', '23', '12'] or type 'NO' 12\n",
      "Any particular distillery? Options: ['buffalo trace'] or type 'NO' buffalo trace\n"
     ]
    }
   ],
   "source": [
    "search_df = scraped_data_clean.copy()\n",
    "\n",
    "search_term = input(\"What are you looking for?\")\n",
    "search_df = search_df[search_df['name'].str.contains(search_term.lower())]\n",
    "\n",
    "year = input(f\"Any particular year? Year Options: {list(search_df['Age'].value_counts().index)} or type 'NO'\")\n",
    "if year != \"NO\":\n",
    "    search_df = search_df[search_df['Age']==year]\n",
    "    \n",
    "distillery = input(f\"Any particular distillery? Options: {list(search_df['Distillery'].value_counts().index)} or type 'NO'\")\n",
    "search_df = search_df[search_df['name'].str.contains(distillery.lower())]"
   ]
  },
  {
   "cell_type": "code",
   "execution_count": 76,
   "id": "c6e647ae-23c4-4347-987f-956743ce1533",
   "metadata": {},
   "outputs": [
    {
     "name": "stdin",
     "output_type": "stream",
     "text": [
      "What current price are you looking at? 2000\n"
     ]
    }
   ],
   "source": [
    "cur_price = int(input(\"What current price are you looking at?\"))"
   ]
  },
  {
   "cell_type": "code",
   "execution_count": 199,
   "id": "c22365cc-4807-47f2-b651-8783613bfcdf",
   "metadata": {},
   "outputs": [
    {
     "data": {
      "image/png": "[encoded data removed]",
      "text/plain": [
       "<Figure size 1440x720 with 1 Axes>"
      ]
     },
     "metadata": {
      "needs_background": "light"
     },
     "output_type": "display_data"
    }
   ],
   "source": [
    "search_df_means = search_df[['price', 'end_date']].groupby(\"end_date\").mean()\n",
    "\n",
    "fig, ax = plt.subplots(figsize=(20,10))\n",
    "ax.scatter(search_df['end_date'], search_df['price'], s=100)\n",
    "ax.scatter(search_df_means.index, search_df_means['price'], color = \"red\", s = 100)\n",
    "ax.plot(search_df_means.index, search_df_means['price'], color = \"red\", linewidth = 5)\n",
    "ax.tick_params(axis='both', which='major', labelsize=15)\n",
    "\n",
    "ax.scatter(pd.to_datetime(datetime.today().strftime('%Y-%m-%d')), cur_price, s=100, color = \"green\");"
   ]
  },
  {
   "cell_type": "code",
   "execution_count": null,
   "id": "1522b889-c4e2-4214-9e35-edc3ccd642be",
   "metadata": {},
   "outputs": [],
   "source": [
    "# expression = distillery (ex = Wild Turkey), age, proof, vintage (year), \n",
    "# uniquely identify each expression and track price over time\n",
    "# only care about "
   ]
  }
 ],
 "metadata": {
  "kernelspec": {
   "display_name": "Python 3",
   "language": "python",
   "name": "python3"
  },
  "language_info": {
   "codemirror_mode": {
    "name": "ipython",
    "version": 3
   },
   "file_extension": ".py",
   "mimetype": "text/x-python",
   "name": "python",
   "nbconvert_exporter": "python",
   "pygments_lexer": "ipython3",
   "version": "3.8.8"
  }
 },
 "nbformat": 4,
 "nbformat_minor": 5
}
