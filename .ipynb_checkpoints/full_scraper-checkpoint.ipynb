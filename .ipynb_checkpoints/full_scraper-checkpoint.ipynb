{
 "cells": [
  {
   "cell_type": "markdown",
   "id": "9469ca89-3430-4226-b1bc-e9d9405d6d3a",
   "metadata": {},
   "source": [
    "# Imports\n"
   ]
  },
  {
   "cell_type": "code",
   "execution_count": 282,
   "id": "15976d43-13fd-45d9-925b-4ba76cb08b87",
   "metadata": {},
   "outputs": [],
   "source": [
    "import pandas as pd\n",
    "import numpy as np\n",
    "import requests\n",
    "from bs4 import BeautifulSoup\n",
    "import re\n",
    "from datetime import datetime\n",
    "import math\n",
    "import time\n",
    "from fake_useragent import UserAgent\n",
    "import validators\n",
    "import matplotlib.pyplot as plt\n",
    "import mplcursors\n",
    "import plotly.express as px"
   ]
  },
  {
   "cell_type": "code",
   "execution_count": 247,
   "id": "8a950bfa-9192-46ab-9e07-2c71ecd7fd3f",
   "metadata": {},
   "outputs": [],
   "source": [
    "%run library.ipynb"
   ]
  },
  {
   "cell_type": "markdown",
   "id": "259db3af-580b-43a2-84aa-5a6c91a5ea5a",
   "metadata": {},
   "source": [
    "# Load in Existing Dataset:"
   ]
  },
  {
   "cell_type": "code",
   "execution_count": 125,
   "id": "e4030e18-86f6-4220-9892-56d9b8248c36",
   "metadata": {},
   "outputs": [],
   "source": [
    "scraped_data = pd.read_csv(\"scraped_data_old.csv\")\n",
    "scraped_data.set_index(list(scraped_data.columns)[0], inplace=True)"
   ]
  },
  {
   "cell_type": "code",
   "execution_count": 3,
   "id": "8c4fc38a-d40e-4b66-92dc-fef0a42e1011",
   "metadata": {},
   "outputs": [],
   "source": [
    "# just scrape wild turkey\n",
    "# adjusted by mean price increase from last auction\n",
    "# basket of bourbons, scotches, japanese - look for differences in pricing\n"
   ]
  },
  {
   "cell_type": "markdown",
   "id": "46863066-1b55-4e53-b33e-e55ef328c591",
   "metadata": {},
   "source": [
    "# OG Scraping"
   ]
  },
  {
   "cell_type": "code",
   "execution_count": 38,
   "id": "34b731de-c304-45a7-8810-38948aff9665",
   "metadata": {},
   "outputs": [],
   "source": [
    "lots_dict = {}\n",
    "categories = ['Distillery', 'Age', 'Vintage', 'Region', 'Bottler', 'Cask Type', 'Bottled Strength', 'Bottle Size',\n",
    "             'Distillery Status']\n",
    "ua = UserAgent()\n",
    "date_format = \"%d.%m.%y\"\n",
    "per_page = 40\n"
   ]
  },
  {
   "cell_type": "code",
   "execution_count": 81,
   "id": "0f4802d5-88e7-42bd-9fec-a95290b76ef2",
   "metadata": {},
   "outputs": [],
   "source": [
    "date_format = \"%y.%d.%m\""
   ]
  },
  {
   "cell_type": "code",
   "execution_count": 39,
   "id": "5cda5889-09cc-4ce8-b51d-0031321f4b89",
   "metadata": {},
   "outputs": [],
   "source": [
    "def og_scraper():\n",
    "    '''Scrapes data from Whiskey Auctioneer and saves to dictionary'''\n",
    "    \n",
    "    # more_new_data = True\n",
    "\n",
    "    # URL of the first page of results\n",
    "    url_stem = \"https://whiskyauctioneer.com/auction-search\"\n",
    "    \n",
    "    url = True\n",
    "    \n",
    "    try:\n",
    "        live_url = \"https://whiskyauctioneer.com/current-auction\"\n",
    "        page = requests.get(live_url, headers={'user-agent': ua.random})\n",
    "        soup = BeautifulSoup(page.content, \"html.parser\")\n",
    "        start_page = math.floor(int(re.findall(r'\\d+', soup.find(\"p\", class_ = \"left\").text)[0]) / per_page)-1\n",
    "        i = start_page\n",
    "        \n",
    "    except:\n",
    "        #i = 0\n",
    "        i = 369\n",
    "    \n",
    "    # Loop through remaining pages until you get to where there aren't any more\n",
    "    while url:\n",
    "        \n",
    "        if i == 0:\n",
    "            url = url_stem\n",
    "        else:\n",
    "            url = url_stem + f'?page={i}'\n",
    "\n",
    "        page = requests.get(url, headers={'user-agent': ua.random})\n",
    "        soup = BeautifulSoup(page.content, \"html.parser\")\n",
    "        \n",
    "        result_1 = soup.find(\"div\", class_ =\"views-row views-row-1 views-row-odd views-row-first producthomepage\")\n",
    "        result = result_1\n",
    "        \n",
    "        # Now we need to iterate through the lots on the page\n",
    "        while result != None:\n",
    "\n",
    "            lot_dict = {}\n",
    "            \n",
    "            lot_num = int(re.findall(r'\\d+', result.find(\"span\", class_ = \"lotnumber label-lot\").text)[0])\n",
    "            if lot_num in list(scraped_data.index):\n",
    "                \n",
    "                more_new_data = False\n",
    "                result = result.nextSibling\n",
    "                continue\n",
    "            \n",
    "            # Skip this iteration if the lot is part of a current auction:\n",
    "            if \"Bid Now\" in result.text:\n",
    "                result = result.nextSibling\n",
    "                continue\n",
    "                 \n",
    "            lot_dict[\"name\"] = result.find(\"a\")[\"_title\"]\n",
    "            lot_dict[\"price\"] = int(''.join(re.findall(r'\\d+', result.find(\"div\", class_ = \"lotwin cru\").text)))\n",
    "            if \"Reserve not met\" in result.find(\"div\", class_ = \"lotwin cru\").text:\n",
    "                lot_dict['reserve_met'] = 0\n",
    "            elif \"Reserve has been met\" in result.find(\"div\", class_ = \"lotwin cru\").text:\n",
    "                lot_dict['reserve_met'] = 1\n",
    "            lot_dict['end_date'] = datetime.strptime(result.find(\"div\", \n",
    "                                class_ = \"enddatein\").text.split(':')[1].strip(), date_format).date()\n",
    "            lot_num = int(re.findall(r'\\d+', result.find(\"span\", class_ = \"lotnumber label-lot\").text)[0])\n",
    "               \n",
    "            # Get lot site\n",
    "            lot_url = result.find(\"a\", href=True)['href']\n",
    "           \n",
    "            \n",
    "            lot_page = requests.get(lot_url, headers={'user-agent': ua.random})\n",
    "            lot_soup = BeautifulSoup(lot_page.content, \"html.parser\")\n",
    "            \n",
    "            \n",
    "            try:\n",
    "                child = lot_soup.find(\"div\", class_ = \"whiskyproduct\").findChild()\n",
    "            except:\n",
    "                print(lot_url)\n",
    "                result = result.nextSibling\n",
    "                continue\n",
    "            # Iterate through children to get all info\n",
    "            while child:\n",
    "                \n",
    "                for val in categories:\n",
    "                    if val in child.text:\n",
    "                        cat = val\n",
    "                        \n",
    "                value = str(child.text).replace(\"\\xa0\", '').split(':')[1]\n",
    "                \n",
    "                lot_dict[cat] = value\n",
    "                \n",
    "                child = child.nextSibling\n",
    "                \n",
    "            prod_details = lot_soup.find(\"div\", {\"class\": \"field-item even\", \n",
    "                                                 \"property\": \"content:encoded\"}).text.replace(\"\\xa0\", '')\n",
    "            \n",
    "            lot_dict['details'] = prod_details\n",
    "                \n",
    "            lots_dict[lot_num] = lot_dict\n",
    "            \n",
    "            # This iterates the loop to the next lot\n",
    "            result = result.nextSibling\n",
    "            \n",
    "            time.sleep(3)\n",
    "        \n",
    "        print(f\"Done page {i}\")\n",
    "        i += 1\n",
    "        time.sleep(3)\n",
    "         \n",
    "        \n",
    "    return lots_dict\n",
    "        "
   ]
  },
  {
   "cell_type": "code",
   "execution_count": 40,
   "id": "c3466074-2249-49e1-ae41-44b09e99b125",
   "metadata": {
    "tags": []
   },
   "outputs": [],
   "source": [
    "#og_scraper()"
   ]
  },
  {
   "cell_type": "code",
   "execution_count": 36,
   "id": "d7bc860e-dd1d-4475-a064-2ab85cba795c",
   "metadata": {},
   "outputs": [],
   "source": [
    "scraped_data_cur = pd.DataFrame.from_dict(lots_dict, orient = \"index\")\n",
    "scraped_data = pd.concat([scraped_data, scraped_data_cur])\n",
    "# REMEMBER TO RESET START NUMBER AND CLEAR LOTS DICT"
   ]
  },
  {
   "cell_type": "code",
   "execution_count": 37,
   "id": "ccb99985-deb7-49db-820d-cb7cfe15a387",
   "metadata": {},
   "outputs": [],
   "source": [
    "scraped_data.to_csv(\"scraped_data.csv\")"
   ]
  },
  {
   "cell_type": "markdown",
   "id": "d47d35a4-8932-4a86-bae2-9f876de363d6",
   "metadata": {},
   "source": [
    "# Iterative Scraping"
   ]
  },
  {
   "cell_type": "code",
   "execution_count": 281,
   "id": "e375a205-e1cb-49c1-9977-a016baa0027b",
   "metadata": {},
   "outputs": [],
   "source": [
    "def scraper():\n",
    "    '''Scrapes data from Whiskey Auctioneer and saves to dictionary'''\n",
    "    \n",
    "    more_new_data = True\n",
    "\n",
    "    # URL of the first page of results\n",
    "    url_stem = \"https://whiskyauctioneer.com/auction-search\"\n",
    "    \n",
    "    url = True\n",
    "    \n",
    "    live_url = \"https://whiskyauctioneer.com/current-auction\"\n",
    "    page = requests.get(live_url, headers=headers)\n",
    "    soup = BeautifulSoup(page.content, \"html.parser\")\n",
    "    start_page = math.floor(int(re.findall(r'\\d+', soup.find(\"p\", class_ = \"left\").text)[0]) / per_page)-1\n",
    "    \n",
    "    i = start_page\n",
    "    #i = 209\n",
    "    \n",
    "    # Loop through remaining pages until you get to where there aren't any more\n",
    "    while url and more_new_data:\n",
    "        print(i)\n",
    "        \n",
    "        if i == 0:\n",
    "            url = url_stem\n",
    "        else:\n",
    "            url = url_stem + f'?page={i}'\n",
    "\n",
    "        page = requests.get(url, headers=headers)\n",
    "        soup = BeautifulSoup(page.content, \"html.parser\")\n",
    "        \n",
    "        result_1 = soup.find(\"div\", class_ =\"views-row views-row-1 views-row-odd views-row-first producthomepage\")\n",
    "        result = result_1\n",
    "        # Now we need to iterate through the lots on the page\n",
    "        while result and more_new_data:\n",
    "            lot_dict = {}\n",
    "            \n",
    "            lot_num = int(re.findall(r'\\d+', result.find(\"span\", class_ = \"lotnumber label-lot\").text)[0])\n",
    "            if lot_num in list(scraped_data.index):\n",
    "                more_new_data = False\n",
    "            \n",
    "            # Skip this iteration if the lot is part of a current auction:\n",
    "            if \"Bid Now\" in result.text:\n",
    "                result = result.nextSibling\n",
    "                continue\n",
    "                 \n",
    "            lot_dict[\"name\"] = result.find(\"a\")[\"_title\"]\n",
    "            lot_dict[\"price\"] = int(''.join(re.findall(r'\\d+', result.find(\"div\", class_ = \"lotwin cru\").text)))\n",
    "            lot_dict['reserve_met'] = 1 if \"Reserve not met\" in result.find(\"div\", class_ = \"lotwin cru\").text else 0\n",
    "            lot_dict['end_date'] = datetime.strptime(result.find(\"div\", \n",
    "                                class_ = \"enddatein\").text.split(':')[1].strip(), date_format).date()\n",
    "            lot_num = int(re.findall(r'\\d+', result.find(\"span\", class_ = \"lotnumber label-lot\").text)[0])\n",
    "               \n",
    "            # Get lot site\n",
    "            lot_url = result.find(\"a\", href=True)['href']\n",
    "            \n",
    "            lot_page = requests.get(lot_url, headers=headers)\n",
    "            lot_soup = BeautifulSoup(lot_page.content, \"html.parser\")\n",
    "            \n",
    "            child = lot_soup.find(\"div\", class_ = \"whiskyproduct\").findChild()\n",
    "            # Iterate through children to get all info\n",
    "            while child:\n",
    "                \n",
    "                for val in categories:\n",
    "                    if val in child.text:\n",
    "                        cat = val\n",
    "                        \n",
    "                value = str(child.text).replace(\"\\xa0\", '').split(':')[1]\n",
    "                \n",
    "                lot_dict[cat] = value\n",
    "                \n",
    "                child = child.nextSibling\n",
    "                \n",
    "            prod_details = lot_soup.find(\"div\", {\"class\": \"field-item even\", \n",
    "                                                 \"property\": \"content:encoded\"}).text.replace(\"\\xa0\", '')\n",
    "            \n",
    "            lot_dict['details'] = prod_details\n",
    "                \n",
    "            lots_dict[lot_num] = lot_dict\n",
    "            \n",
    "            # This iterates the loop to the next lot\n",
    "            result = result.nextSibling\n",
    "        \n",
    "        i += 1\n",
    "        time.sleep(3)\n",
    "         \n",
    "        \n",
    "    return lots_dict\n",
    "        "
   ]
  },
  {
   "cell_type": "code",
   "execution_count": 284,
   "id": "2ea7affe-cb80-4d38-9305-8314331ed36c",
   "metadata": {},
   "outputs": [],
   "source": [
    "#scraper()"
   ]
  },
  {
   "cell_type": "code",
   "execution_count": 277,
   "id": "98f0b541-c25c-4465-85db-e6b561e2742c",
   "metadata": {},
   "outputs": [],
   "source": [
    "scraped_data = pd.DataFrame.from_dict(lots_dict, orient = \"index\")\n",
    "scraped_data.to_csv(\"scraped_data.csv\")"
   ]
  },
  {
   "cell_type": "markdown",
   "id": "a97790af-4b9c-467f-b7af-11ba898d9dbc",
   "metadata": {},
   "source": [
    "# Data Cleaning"
   ]
  },
  {
   "cell_type": "code",
   "execution_count": 248,
   "id": "f24ccef1-bfad-466b-96bd-17727427a644",
   "metadata": {},
   "outputs": [],
   "source": [
    "scraped_data_clean = scraped_data.copy()\n",
    "\n",
    "scraped_data_clean['end_date'] = pd.to_datetime(scraped_data['end_date'], format='%Y-%d-%m')\n",
    "\n",
    "scraped_data_clean['Age'] = scraped_data['Age'].apply(clean_age)\n",
    "\n",
    "scraped_data_clean['name'] = [i.lower() for i in scraped_data['name']]\n",
    "\n",
    "scraped_data_clean.Distillery = scraped_data.Distillery.apply(try_lower)\n",
    "\n",
    "scraped_data_clean.Region = scraped_data.Region.apply(try_lower)\n",
    "\n",
    "scraped_data_clean.Bottler = scraped_data.Bottler.apply(try_lower)\n",
    "\n",
    "scraped_data_clean['Bottled Strength'] = scraped_data['Bottled Strength'].apply(fix_pct)\n",
    "\n",
    "scraped_data_clean['Bottle Size'] = scraped_data['Bottle Size'].apply(fix_size)\n",
    "\n",
    "scraped_data_clean['Distillery Status'] = scraped_data['Distillery Status'].apply(try_lower)\n",
    "\n",
    "scraped_data_clean['Vintage'] = scraped_data['Vintage'].apply(to_number)\n",
    "\n",
    "scraped_data_clean['Cask Type'] = scraped_data['Cask Type'].apply(try_lower)\n"
   ]
  },
  {
   "cell_type": "markdown",
   "id": "166ca2a8-0287-4ceb-87c1-0481ec2ac6cf",
   "metadata": {},
   "source": [
    "# Output"
   ]
  },
  {
   "cell_type": "code",
   "execution_count": 249,
   "id": "e0763439-3ed7-4c52-879f-c68a6c37d668",
   "metadata": {},
   "outputs": [
    {
     "data": {
      "text/html": [
       "<div>\n",
       "<style scoped>\n",
       "    .dataframe tbody tr th:only-of-type {\n",
       "        vertical-align: middle;\n",
       "    }\n",
       "\n",
       "    .dataframe tbody tr th {\n",
       "        vertical-align: top;\n",
       "    }\n",
       "\n",
       "    .dataframe thead th {\n",
       "        text-align: right;\n",
       "    }\n",
       "</style>\n",
       "<table border=\"1\" class=\"dataframe\">\n",
       "  <thead>\n",
       "    <tr style=\"text-align: right;\">\n",
       "      <th></th>\n",
       "      <th>name</th>\n",
       "      <th>price</th>\n",
       "      <th>end_date</th>\n",
       "      <th>Distillery</th>\n",
       "      <th>Age</th>\n",
       "      <th>Region</th>\n",
       "      <th>Bottler</th>\n",
       "      <th>Bottled Strength</th>\n",
       "      <th>Bottle Size</th>\n",
       "      <th>Distillery Status</th>\n",
       "      <th>details</th>\n",
       "      <th>Vintage</th>\n",
       "      <th>Cask Type</th>\n",
       "      <th>reserve_met</th>\n",
       "    </tr>\n",
       "    <tr>\n",
       "      <th>Unnamed: 0</th>\n",
       "      <th></th>\n",
       "      <th></th>\n",
       "      <th></th>\n",
       "      <th></th>\n",
       "      <th></th>\n",
       "      <th></th>\n",
       "      <th></th>\n",
       "      <th></th>\n",
       "      <th></th>\n",
       "      <th></th>\n",
       "      <th></th>\n",
       "      <th></th>\n",
       "      <th></th>\n",
       "      <th></th>\n",
       "    </tr>\n",
       "  </thead>\n",
       "  <tbody>\n",
       "    <tr>\n",
       "      <th>6182043</th>\n",
       "      <td>caol ila 25 year old</td>\n",
       "      <td>160</td>\n",
       "      <td>2023-04-10</td>\n",
       "      <td>caol ila</td>\n",
       "      <td>25.0</td>\n",
       "      <td>islay</td>\n",
       "      <td>official</td>\n",
       "      <td>43.0</td>\n",
       "      <td>70.0</td>\n",
       "      <td>operational</td>\n",
       "      <td>Caol Ila 25 Year OldCaol Ila distillery was bu...</td>\n",
       "      <td>NaN</td>\n",
       "      <td>NaN</td>\n",
       "      <td>NaN</td>\n",
       "    </tr>\n",
       "    <tr>\n",
       "      <th>6182044</th>\n",
       "      <td>midleton very rare 2022 edition</td>\n",
       "      <td>210</td>\n",
       "      <td>2023-04-10</td>\n",
       "      <td>midleton</td>\n",
       "      <td>NaN</td>\n",
       "      <td>ireland</td>\n",
       "      <td>official</td>\n",
       "      <td>40.0</td>\n",
       "      <td>70.0</td>\n",
       "      <td>operational</td>\n",
       "      <td>Midleton Very Rare 2022 EditionThe formation o...</td>\n",
       "      <td>NaN</td>\n",
       "      <td>bourbon casks</td>\n",
       "      <td>NaN</td>\n",
       "    </tr>\n",
       "    <tr>\n",
       "      <th>6182045</th>\n",
       "      <td>yuza first edition 2022</td>\n",
       "      <td>115</td>\n",
       "      <td>2023-04-10</td>\n",
       "      <td>yuza</td>\n",
       "      <td>NaN</td>\n",
       "      <td>japan</td>\n",
       "      <td>official</td>\n",
       "      <td>61.0</td>\n",
       "      <td>70.0</td>\n",
       "      <td>operational</td>\n",
       "      <td>Yuza First Edition 2022This is the first relea...</td>\n",
       "      <td>NaN</td>\n",
       "      <td>ex-bourbon</td>\n",
       "      <td>NaN</td>\n",
       "    </tr>\n",
       "    <tr>\n",
       "      <th>5119084</th>\n",
       "      <td>port ellen 1981 moon import / the sails in the...</td>\n",
       "      <td>1588</td>\n",
       "      <td>2023-04-10</td>\n",
       "      <td>port ellen</td>\n",
       "      <td>NaN</td>\n",
       "      <td>islay</td>\n",
       "      <td>moon import</td>\n",
       "      <td>46.0</td>\n",
       "      <td>70.0</td>\n",
       "      <td>closed</td>\n",
       "      <td>Port Ellen 1981 Moon Import / The Sails in the...</td>\n",
       "      <td>1981.0</td>\n",
       "      <td>2 x hogsheads</td>\n",
       "      <td>NaN</td>\n",
       "    </tr>\n",
       "    <tr>\n",
       "      <th>6182046</th>\n",
       "      <td>octomore 5.1</td>\n",
       "      <td>186</td>\n",
       "      <td>2023-04-10</td>\n",
       "      <td>bruichladdich</td>\n",
       "      <td>5.0</td>\n",
       "      <td>islay</td>\n",
       "      <td>official</td>\n",
       "      <td>59.5</td>\n",
       "      <td>70.0</td>\n",
       "      <td>operational</td>\n",
       "      <td>Octomore 5.1Octomore is the super-heavily peat...</td>\n",
       "      <td>NaN</td>\n",
       "      <td>NaN</td>\n",
       "      <td>NaN</td>\n",
       "    </tr>\n",
       "  </tbody>\n",
       "</table>\n",
       "</div>"
      ],
      "text/plain": [
       "                                                         name  price  \\\n",
       "Unnamed: 0                                                             \n",
       "6182043                                  caol ila 25 year old    160   \n",
       "6182044                       midleton very rare 2022 edition    210   \n",
       "6182045                               yuza first edition 2022    115   \n",
       "5119084     port ellen 1981 moon import / the sails in the...   1588   \n",
       "6182046                                          octomore 5.1    186   \n",
       "\n",
       "             end_date     Distillery   Age   Region      Bottler  \\\n",
       "Unnamed: 0                                                         \n",
       "6182043    2023-04-10       caol ila  25.0    islay     official   \n",
       "6182044    2023-04-10       midleton   NaN  ireland     official   \n",
       "6182045    2023-04-10           yuza   NaN    japan     official   \n",
       "5119084    2023-04-10     port ellen   NaN    islay  moon import   \n",
       "6182046    2023-04-10  bruichladdich   5.0    islay     official   \n",
       "\n",
       "            Bottled Strength  Bottle Size Distillery Status  \\\n",
       "Unnamed: 0                                                    \n",
       "6182043                 43.0         70.0       operational   \n",
       "6182044                 40.0         70.0       operational   \n",
       "6182045                 61.0         70.0       operational   \n",
       "5119084                 46.0         70.0            closed   \n",
       "6182046                 59.5         70.0       operational   \n",
       "\n",
       "                                                      details  Vintage  \\\n",
       "Unnamed: 0                                                               \n",
       "6182043     Caol Ila 25 Year OldCaol Ila distillery was bu...      NaN   \n",
       "6182044     Midleton Very Rare 2022 EditionThe formation o...      NaN   \n",
       "6182045     Yuza First Edition 2022This is the first relea...      NaN   \n",
       "5119084     Port Ellen 1981 Moon Import / The Sails in the...   1981.0   \n",
       "6182046     Octomore 5.1Octomore is the super-heavily peat...      NaN   \n",
       "\n",
       "                Cask Type  reserve_met  \n",
       "Unnamed: 0                              \n",
       "6182043               NaN          NaN  \n",
       "6182044     bourbon casks          NaN  \n",
       "6182045        ex-bourbon          NaN  \n",
       "5119084     2 x hogsheads          NaN  \n",
       "6182046               NaN          NaN  "
      ]
     },
     "execution_count": 249,
     "metadata": {},
     "output_type": "execute_result"
    }
   ],
   "source": [
    "scraped_data_clean.head()"
   ]
  },
  {
   "cell_type": "code",
   "execution_count": 359,
   "id": "8893b5af-9030-4456-87c4-5e17e01aa666",
   "metadata": {},
   "outputs": [
    {
     "name": "stdin",
     "output_type": "stream",
     "text": [
      "What do you want to search by? \n",
      "Options: \n",
      "1. Name \n",
      "2. Price \n",
      "3. Auction End Date \n",
      "4. Distillery \n",
      "5. Age \n",
      "6. Region \n",
      "7. Bottler \n",
      "8. Bottled Strength (%) \n",
      "9. Bottle Size (cl) \n",
      "10. Distillery Status \n",
      "11. Vintage \n",
      "12. Cask Type \n",
      "13. Reserve Met\n",
      "Type Number or type 'Done' 1\n",
      "What are you looking for? Wild Turkey 12 Year Old 101 Proof Limited Edition\n"
     ]
    },
    {
     "name": "stdout",
     "output_type": "stream",
     "text": [
      "Results left: 11\n"
     ]
    },
    {
     "name": "stdin",
     "output_type": "stream",
     "text": [
      "What do you want to search by? \n",
      "Options: \n",
      "1. Name \n",
      "2. Price \n",
      "3. Auction End Date \n",
      "4. Distillery \n",
      "5. Age \n",
      "6. Region \n",
      "7. Bottler \n",
      "8. Bottled Strength (%) \n",
      "9. Bottle Size (cl) \n",
      "10. Distillery Status \n",
      "11. Vintage \n",
      "12. Cask Type \n",
      "13. Reserve Met\n",
      "Type Number or type 'Done' Done\n"
     ]
    },
    {
     "name": "stdout",
     "output_type": "stream",
     "text": [
      "Filters: ['Search term = Wild Turkey 12 Year Old 101 Proof Limited Edition']\n"
     ]
    }
   ],
   "source": [
    "\n",
    "search_df = scraped_data_clean.copy()\n",
    "filters = []\n",
    "\n",
    "while True:\n",
    "    \n",
    "    search_cat = input(\"What do you want to search by? \\nOptions: \\n1. Name \\n2. Price \\n3. Auction End Date \\n4. Distillery \\n5. Age \\n6. Region \\n7. Bottler \\n8. Bottled Strength (%) \\n9. Bottle Size (cl) \\n10. Distillery Status \\n11. Vintage \\n12. Cask Type \\n13. Reserve Met\\nType Number or type 'Done'\")\n",
    "    \n",
    "    if search_cat == 'Done':\n",
    "        break\n",
    "    \n",
    "    search_cat = int(search_cat)\n",
    "    \n",
    "    if search_cat == 1:\n",
    "        search_term = input(\"What are you looking for?\")\n",
    "        if search_term == '':\n",
    "            continue\n",
    "        search_df = search_df[search_df['name'].str.contains(search_term.lower(), na=False)]\n",
    "        filters.append(f\"Search term = {search_term}\")\n",
    "        \n",
    "    elif search_cat == 2:\n",
    "        print(f\"Overall Range: {min(search_df['price']), max(search_df['price'])}\")\n",
    "        price_range_low = int(input(\"Provide lower bound:\"))\n",
    "        if price_range_low == '':\n",
    "            price_range_low = 0\n",
    "        price_range_high = int(input(\"Provide upper bound:\"))\n",
    "        if price_range_high == '':\n",
    "            price_range_high = 100000000000000000000000000000\n",
    "        search_df = search_df[search_df['price']<=price_range_high]\n",
    "        search_df = search_df[search_df['price']>=price_range_low]\n",
    "        filters.append(f\"Price range = {price_range_low, price_range_high}\")\n",
    "        \n",
    "    elif search_cat ==3:\n",
    "        print(f\"Auction Date Range: {min(search_df['end_date']), max(search_df['end_date'])}\")\n",
    "#         date_range_low = \n",
    "#         date_range_high = \n",
    "        search_df = search_df[search_df['end_date']<=date_range_high]\n",
    "        search_df = search_df[search_df['end_date']>=date_range_low]\n",
    "        filters.append(f\"Date range = {date_range_low, date_range_high}\")\n",
    "        \n",
    "    elif search_cat ==4:\n",
    "        print(list(search_df['Distillery'].value_counts().index))\n",
    "        search_term = input(\"What distillery are you looking for?\")\n",
    "        if search_term == '':\n",
    "            continue\n",
    "        search_df = search_df[search_df['Distillery'].str.contains(search_term.lower(), na=False)]\n",
    "        filters.append(f\"Distillery search term = {search_term}\")\n",
    "        \n",
    "    elif search_cat ==5:\n",
    "        print(f\"Age Range: {min(search_df['Age']), max(search_df['Age'])}\")\n",
    "        age_range_low = float(input(\"Provide lower bound:\"))\n",
    "        age_range_high = float(input(\"Provide upper bound:\"))\n",
    "        if age_range_low == '':\n",
    "            age_range_low = 0\n",
    "        if age_range_high == '':\n",
    "            age_range_high = 100000000000000000000000000000\n",
    "        search_df = search_df[search_df['Age']<=age_range_high]\n",
    "        search_df = search_df[search_df['Age']>=age_range_low]\n",
    "        filters.append(f\"Date range = {age_range_low, age_range_high}\")\n",
    "        \n",
    "    elif search_cat ==6:\n",
    "        print(list(search_df['Region'].value_counts().index))\n",
    "        search_region = input(\"What region are you looking for?\")\n",
    "        if search_region == '':\n",
    "            continue\n",
    "        search_df = search_df[search_df['Region']==search_region]\n",
    "        filters.append(f\"Region search term = {search_region}\")\n",
    "        \n",
    "    elif search_cat ==7:\n",
    "        print(list(search_df['Bottler'].value_counts().index))\n",
    "        search_bottler = input(\"What bottler are you looking for?\")\n",
    "        if search_bottler == '':\n",
    "            continue\n",
    "        search_df = search_df[search_df['Bottler']==search_bottler]\n",
    "        filters.append(f\"Bottler search term = {search_bottler}\")\n",
    "        \n",
    "    elif search_cat ==8:\n",
    "        print(f\"Strength Range: {min(search_df['Bottled Strength']), max(search_df['Bottled Strength'])}\")\n",
    "        strength_range_low = float(input(\"Provide lower bound:\"))\n",
    "        strength_range_high = float(input(\"Provide upper bound:\"))\n",
    "        if strength_range_low == '':\n",
    "            strength_range_low = 0\n",
    "        if strength_range_high == '':\n",
    "            strength_range_high = 100000000000000000000000000000\n",
    "        search_df = search_df[search_df['Bottled Strength']<=strength_range_high]\n",
    "        search_df = search_df[search_df['Bottled Strength']>=strength_range_low]\n",
    "        filters.append(f\"Date range = {strength_range_low, strength_range_high}\")\n",
    "        \n",
    "    elif search_cat ==9:\n",
    "        print(f\"Bottle Size Range: {min(search_df['Bottle Size']), max(search_df['Bottle Size'])}\")\n",
    "        size_range_low = float(input(\"Provide lower bound:\"))\n",
    "        size_range_high = float(input(\"Provide upper bound:\"))\n",
    "        if size_range_low == '':\n",
    "            size_range_low = 0\n",
    "        if size_range_high == '':\n",
    "            size_range_high = 100000000000000000000000000000\n",
    "        search_df = search_df[search_df['Bottle Size']<=size_range_high]\n",
    "        search_df = search_df[search_df['Bottle Size']>=size_range_low]\n",
    "        filters.append(f\"Date range = {size_range_low, size_range_high}\")\n",
    "        \n",
    "    elif search_cat ==10:\n",
    "        print(list(search_df['Distillery Status'].value_counts().index))\n",
    "        search_status = input(\"What are you looking for?\")\n",
    "        if search_status == '':\n",
    "            continue\n",
    "        search_df = search_df[search_df['Distillery Status']==search_status]\n",
    "        filters.append(f\"Status search term = {search_status}\")\n",
    "        \n",
    "    elif search_cat ==11:\n",
    "        lst = list(search_df['Vintage'].value_counts().index)\n",
    "        print(lst)\n",
    "        vintage_range_low = float(input(\"Provide lower bound:\"))\n",
    "        vintage_range_high = float(input(\"Provide upper bound:\"))\n",
    "        if vintage_range_low == '':\n",
    "            vintage_range_low = 0\n",
    "        if vintage_range_high == '':\n",
    "            vintage_range_high = 100000000000000000000000000000\n",
    "        search_df = search_df[search_df['Vintage']<=vintage_range_high]\n",
    "        search_df = search_df[search_df['Vintage']>=vintage_range_low]\n",
    "        filters.append(f\"Vintage range = {vintage_range_low, vintage_range_high}\")\n",
    "        \n",
    "    elif search_cat ==12:\n",
    "        print(list(search_df['Cask Type'].value_counts().index))\n",
    "        search_term = input(\"What are you looking for?\")\n",
    "        if search_term == '':\n",
    "            continue\n",
    "        search_df = search_df[search_df['Cask Type'].str.contains(search_term.lower(), na=False)]\n",
    "        filters.append(f\"Cask type search term = {search_term}\")\n",
    "        \n",
    "    elif search_cat == 13:\n",
    "        reserve_only = input(\"Filter to include only lots which met the reserve? (Yes/No)\").lower()\n",
    "        if reserve_only == 'yes':\n",
    "            search_df = search_df[search_df['reserve_met']==1]\n",
    "            filters.append(\"Reserve met only\")\n",
    "\n",
    "        \n",
    "    print(f\"Results left: {len(search_df)}\")\n",
    "    \n",
    "print(\"Filters:\", [f'{i}' for i in filters])\n",
    "    "
   ]
  },
  {
   "cell_type": "code",
   "execution_count": 348,
   "id": "c6e647ae-23c4-4347-987f-956743ce1533",
   "metadata": {},
   "outputs": [
    {
     "name": "stdin",
     "output_type": "stream",
     "text": [
      "What current price are you looking at? 143\n"
     ]
    }
   ],
   "source": [
    "cur_price = int(input(\"What current price are you looking at?\"))"
   ]
  },
  {
   "cell_type": "code",
   "execution_count": 277,
   "id": "c22365cc-4807-47f2-b651-8783613bfcdf",
   "metadata": {
    "collapsed": true,
    "jupyter": {
     "outputs_hidden": true,
     "source_hidden": true
    },
    "tags": []
   },
   "outputs": [
    {
     "data": {
      "image/png": "[encoded data removed]",
      "text/plain": [
       "<Figure size 1440x720 with 1 Axes>"
      ]
     },
     "metadata": {
      "needs_background": "light"
     },
     "output_type": "display_data"
    }
   ],
   "source": [
    "search_df_means = search_df[['price', 'end_date']].groupby(\"end_date\").mean()\n",
    "\n",
    "fig, ax = plt.subplots(figsize=(20,10))\n",
    "ax.scatter(search_df['end_date'], search_df['price'], s=100)\n",
    "ax.scatter(search_df_means.index, search_df_means['price'], color = \"red\", s = 100)\n",
    "ax.plot(search_df_means.index, search_df_means['price'], color = \"red\", linewidth = 5)\n",
    "ax.tick_params(axis='both', which='major', labelsize=15)\n",
    "\n",
    "ax.scatter(pd.to_datetime(datetime.today().strftime('%Y-%m-%d')), cur_price, s=100, color = \"green\");"
   ]
  },
  {
   "cell_type": "code",
   "execution_count": 360,
   "id": "e67a0d37-4cc7-48a0-ab66-f11a8738a57a",
   "metadata": {},
   "outputs": [],
   "source": [
    "search_df.reset_index(inplace=True)\n",
    "search_df.rename(columns = {\"Unnamed: 0\": \"Lot Number\"}, \n",
    "          inplace = True)"
   ]
  },
  {
   "cell_type": "code",
   "execution_count": 361,
   "id": "5cbe8f35-8d5c-4cd6-8239-d7786e31c588",
   "metadata": {},
   "outputs": [
    {
     "data": {
      "application/vnd.plotly.v1+json": {
       "config": {
        "plotlyServerURL": "https://plot.ly"
       },
       "data": [
        {
         "customdata": [
          [
           "wild turkey 12 year old 101 proof limited edition 1991",
           5122099
          ],
          [
           "wild turkey 12 year old 101 proof limited edition 1989",
           5123426
          ],
          [
           "wild turkey 12 year old 101 proof limited edition 1992",
           5123432
          ],
          [
           "wild turkey 12 year old 101 proof limited edition 1991",
           5124889
          ],
          [
           "wild turkey 12 year old 101 proof limited edition 1988",
           5124895
          ],
          [
           "wild turkey 12 year old 101 proof limited edition 1988",
           5130493
          ],
          [
           "wild turkey 12 year old 101 proof limited edition 1991",
           5114259
          ],
          [
           "wild turkey 12 year old 101 proof limited edition 1990",
           5118762
          ],
          [
           "wild turkey 12 year old 101 proof limited edition 1988",
           5118772
          ],
          [
           "wild turkey 12 year old 101 proof limited edition 1992",
           5118763
          ],
          [
           "wild turkey 12 year old 101 proof limited edition 1991",
           5120620
          ]
         ],
         "hovertemplate": "Auction End Date=%{x}<br>Price=%{y}<br>name=%{customdata[0]}<br>Lot Number=%{customdata[1]}<extra></extra>",
         "legendgroup": "",
         "marker": {
          "color": "#636efa",
          "symbol": "circle"
         },
         "mode": "markers",
         "name": "",
         "orientation": "v",
         "showlegend": false,
         "type": "scatter",
         "x": [
          "2023-04-10T00:00:00",
          "2023-04-10T00:00:00",
          "2023-04-10T00:00:00",
          "2023-04-10T00:00:00",
          "2023-04-10T00:00:00",
          "2023-04-10T00:00:00",
          "2023-03-06T00:00:00",
          "2023-03-06T00:00:00",
          "2023-03-06T00:00:00",
          "2023-03-06T00:00:00",
          "2023-03-06T00:00:00"
         ],
         "xaxis": "x",
         "y": [
          750,
          926,
          700,
          800,
          926,
          975,
          890,
          968,
          1052,
          851,
          876
         ],
         "yaxis": "y"
        }
       ],
       "layout": {
        "annotations": [
         {
          "showarrow": false,
          "text": "Current Price",
          "x": 1,
          "xanchor": "right",
          "xref": "x domain",
          "y": 143,
          "yanchor": "top",
          "yref": "y"
         }
        ],
        "height": 600,
        "legend": {
         "tracegroupgap": 0
        },
        "shapes": [
         {
          "line": {
           "dash": "dot"
          },
          "type": "line",
          "x0": 0,
          "x1": 1,
          "xref": "x domain",
          "y0": 143,
          "y1": 143,
          "yref": "y"
         }
        ],
        "template": {
         "data": {
          "bar": [
           {
            "error_x": {
             "color": "#2a3f5f"
            },
            "error_y": {
             "color": "#2a3f5f"
            },
            "marker": {
             "line": {
              "color": "#E5ECF6",
              "width": 0.5
             },
             "pattern": {
              "fillmode": "overlay",
              "size": 10,
              "solidity": 0.2
             }
            },
            "type": "bar"
           }
          ],
          "barpolar": [
           {
            "marker": {
             "line": {
              "color": "#E5ECF6",
              "width": 0.5
             },
             "pattern": {
              "fillmode": "overlay",
              "size": 10,
              "solidity": 0.2
             }
            },
            "type": "barpolar"
           }
          ],
          "carpet": [
           {
            "aaxis": {
             "endlinecolor": "#2a3f5f",
             "gridcolor": "white",
             "linecolor": "white",
             "minorgridcolor": "white",
             "startlinecolor": "#2a3f5f"
            },
            "baxis": {
             "endlinecolor": "#2a3f5f",
             "gridcolor": "white",
             "linecolor": "white",
             "minorgridcolor": "white",
             "startlinecolor": "#2a3f5f"
            },
            "type": "carpet"
           }
          ],
          "choropleth": [
           {
            "colorbar": {
             "outlinewidth": 0,
             "ticks": ""
            },
            "type": "choropleth"
           }
          ],
          "contour": [
           {
            "colorbar": {
             "outlinewidth": 0,
             "ticks": ""
            },
            "colorscale": [
             [
              0,
              "#0d0887"
             ],
             [
              0.1111111111111111,
              "#46039f"
             ],
             [
              0.2222222222222222,
              "#7201a8"
             ],
             [
              0.3333333333333333,
              "#9c179e"
             ],
             [
              0.4444444444444444,
              "#bd3786"
             ],
             [
              0.5555555555555556,
              "#d8576b"
             ],
             [
              0.6666666666666666,
              "#ed7953"
             ],
             [
              0.7777777777777778,
              "#fb9f3a"
             ],
             [
              0.8888888888888888,
              "#fdca26"
             ],
             [
              1,
              "#f0f921"
             ]
            ],
            "type": "contour"
           }
          ],
          "contourcarpet": [
           {
            "colorbar": {
             "outlinewidth": 0,
             "ticks": ""
            },
            "type": "contourcarpet"
           }
          ],
          "heatmap": [
           {
            "colorbar": {
             "outlinewidth": 0,
             "ticks": ""
            },
            "colorscale": [
             [
              0,
              "#0d0887"
             ],
             [
              0.1111111111111111,
              "#46039f"
             ],
             [
              0.2222222222222222,
              "#7201a8"
             ],
             [
              0.3333333333333333,
              "#9c179e"
             ],
             [
              0.4444444444444444,
              "#bd3786"
             ],
             [
              0.5555555555555556,
              "#d8576b"
             ],
             [
              0.6666666666666666,
              "#ed7953"
             ],
             [
              0.7777777777777778,
              "#fb9f3a"
             ],
             [
              0.8888888888888888,
              "#fdca26"
             ],
             [
              1,
              "#f0f921"
             ]
            ],
            "type": "heatmap"
           }
          ],
          "heatmapgl": [
           {
            "colorbar": {
             "outlinewidth": 0,
             "ticks": ""
            },
            "colorscale": [
             [
              0,
              "#0d0887"
             ],
             [
              0.1111111111111111,
              "#46039f"
             ],
             [
              0.2222222222222222,
              "#7201a8"
             ],
             [
              0.3333333333333333,
              "#9c179e"
             ],
             [
              0.4444444444444444,
              "#bd3786"
             ],
             [
              0.5555555555555556,
              "#d8576b"
             ],
             [
              0.6666666666666666,
              "#ed7953"
             ],
             [
              0.7777777777777778,
              "#fb9f3a"
             ],
             [
              0.8888888888888888,
              "#fdca26"
             ],
             [
              1,
              "#f0f921"
             ]
            ],
            "type": "heatmapgl"
           }
          ],
          "histogram": [
           {
            "marker": {
             "pattern": {
              "fillmode": "overlay",
              "size": 10,
              "solidity": 0.2
             }
            },
            "type": "histogram"
           }
          ],
          "histogram2d": [
           {
            "colorbar": {
             "outlinewidth": 0,
             "ticks": ""
            },
            "colorscale": [
             [
              0,
              "#0d0887"
             ],
             [
              0.1111111111111111,
              "#46039f"
             ],
             [
              0.2222222222222222,
              "#7201a8"
             ],
             [
              0.3333333333333333,
              "#9c179e"
             ],
             [
              0.4444444444444444,
              "#bd3786"
             ],
             [
              0.5555555555555556,
              "#d8576b"
             ],
             [
              0.6666666666666666,
              "#ed7953"
             ],
             [
              0.7777777777777778,
              "#fb9f3a"
             ],
             [
              0.8888888888888888,
              "#fdca26"
             ],
             [
              1,
              "#f0f921"
             ]
            ],
            "type": "histogram2d"
           }
          ],
          "histogram2dcontour": [
           {
            "colorbar": {
             "outlinewidth": 0,
             "ticks": ""
            },
            "colorscale": [
             [
              0,
              "#0d0887"
             ],
             [
              0.1111111111111111,
              "#46039f"
             ],
             [
              0.2222222222222222,
              "#7201a8"
             ],
             [
              0.3333333333333333,
              "#9c179e"
             ],
             [
              0.4444444444444444,
              "#bd3786"
             ],
             [
              0.5555555555555556,
              "#d8576b"
             ],
             [
              0.6666666666666666,
              "#ed7953"
             ],
             [
              0.7777777777777778,
              "#fb9f3a"
             ],
             [
              0.8888888888888888,
              "#fdca26"
             ],
             [
              1,
              "#f0f921"
             ]
            ],
            "type": "histogram2dcontour"
           }
          ],
          "mesh3d": [
           {
            "colorbar": {
             "outlinewidth": 0,
             "ticks": ""
            },
            "type": "mesh3d"
           }
          ],
          "parcoords": [
           {
            "line": {
             "colorbar": {
              "outlinewidth": 0,
              "ticks": ""
             }
            },
            "type": "parcoords"
           }
          ],
          "pie": [
           {
            "automargin": true,
            "type": "pie"
           }
          ],
          "scatter": [
           {
            "fillpattern": {
             "fillmode": "overlay",
             "size": 10,
             "solidity": 0.2
            },
            "type": "scatter"
           }
          ],
          "scatter3d": [
           {
            "line": {
             "colorbar": {
              "outlinewidth": 0,
              "ticks": ""
             }
            },
            "marker": {
             "colorbar": {
              "outlinewidth": 0,
              "ticks": ""
             }
            },
            "type": "scatter3d"
           }
          ],
          "scattercarpet": [
           {
            "marker": {
             "colorbar": {
              "outlinewidth": 0,
              "ticks": ""
             }
            },
            "type": "scattercarpet"
           }
          ],
          "scattergeo": [
           {
            "marker": {
             "colorbar": {
              "outlinewidth": 0,
              "ticks": ""
             }
            },
            "type": "scattergeo"
           }
          ],
          "scattergl": [
           {
            "marker": {
             "colorbar": {
              "outlinewidth": 0,
              "ticks": ""
             }
            },
            "type": "scattergl"
           }
          ],
          "scattermapbox": [
           {
            "marker": {
             "colorbar": {
              "outlinewidth": 0,
              "ticks": ""
             }
            },
            "type": "scattermapbox"
           }
          ],
          "scatterpolar": [
           {
            "marker": {
             "colorbar": {
              "outlinewidth": 0,
              "ticks": ""
             }
            },
            "type": "scatterpolar"
           }
          ],
          "scatterpolargl": [
           {
            "marker": {
             "colorbar": {
              "outlinewidth": 0,
              "ticks": ""
             }
            },
            "type": "scatterpolargl"
           }
          ],
          "scatterternary": [
           {
            "marker": {
             "colorbar": {
              "outlinewidth": 0,
              "ticks": ""
             }
            },
            "type": "scatterternary"
           }
          ],
          "surface": [
           {
            "colorbar": {
             "outlinewidth": 0,
             "ticks": ""
            },
            "colorscale": [
             [
              0,
              "#0d0887"
             ],
             [
              0.1111111111111111,
              "#46039f"
             ],
             [
              0.2222222222222222,
              "#7201a8"
             ],
             [
              0.3333333333333333,
              "#9c179e"
             ],
             [
              0.4444444444444444,
              "#bd3786"
             ],
             [
              0.5555555555555556,
              "#d8576b"
             ],
             [
              0.6666666666666666,
              "#ed7953"
             ],
             [
              0.7777777777777778,
              "#fb9f3a"
             ],
             [
              0.8888888888888888,
              "#fdca26"
             ],
             [
              1,
              "#f0f921"
             ]
            ],
            "type": "surface"
           }
          ],
          "table": [
           {
            "cells": {
             "fill": {
              "color": "#EBF0F8"
             },
             "line": {
              "color": "white"
             }
            },
            "header": {
             "fill": {
              "color": "#C8D4E3"
             },
             "line": {
              "color": "white"
             }
            },
            "type": "table"
           }
          ]
         },
         "layout": {
          "annotationdefaults": {
           "arrowcolor": "#2a3f5f",
           "arrowhead": 0,
           "arrowwidth": 1
          },
          "autotypenumbers": "strict",
          "coloraxis": {
           "colorbar": {
            "outlinewidth": 0,
            "ticks": ""
           }
          },
          "colorscale": {
           "diverging": [
            [
             0,
             "#8e0152"
            ],
            [
             0.1,
             "#c51b7d"
            ],
            [
             0.2,
             "#de77ae"
            ],
            [
             0.3,
             "#f1b6da"
            ],
            [
             0.4,
             "#fde0ef"
            ],
            [
             0.5,
             "#f7f7f7"
            ],
            [
             0.6,
             "#e6f5d0"
            ],
            [
             0.7,
             "#b8e186"
            ],
            [
             0.8,
             "#7fbc41"
            ],
            [
             0.9,
             "#4d9221"
            ],
            [
             1,
             "#276419"
            ]
           ],
           "sequential": [
            [
             0,
             "#0d0887"
            ],
            [
             0.1111111111111111,
             "#46039f"
            ],
            [
             0.2222222222222222,
             "#7201a8"
            ],
            [
             0.3333333333333333,
             "#9c179e"
            ],
            [
             0.4444444444444444,
             "#bd3786"
            ],
            [
             0.5555555555555556,
             "#d8576b"
            ],
            [
             0.6666666666666666,
             "#ed7953"
            ],
            [
             0.7777777777777778,
             "#fb9f3a"
            ],
            [
             0.8888888888888888,
             "#fdca26"
            ],
            [
             1,
             "#f0f921"
            ]
           ],
           "sequentialminus": [
            [
             0,
             "#0d0887"
            ],
            [
             0.1111111111111111,
             "#46039f"
            ],
            [
             0.2222222222222222,
             "#7201a8"
            ],
            [
             0.3333333333333333,
             "#9c179e"
            ],
            [
             0.4444444444444444,
             "#bd3786"
            ],
            [
             0.5555555555555556,
             "#d8576b"
            ],
            [
             0.6666666666666666,
             "#ed7953"
            ],
            [
             0.7777777777777778,
             "#fb9f3a"
            ],
            [
             0.8888888888888888,
             "#fdca26"
            ],
            [
             1,
             "#f0f921"
            ]
           ]
          },
          "colorway": [
           "#636efa",
           "#EF553B",
           "#00cc96",
           "#ab63fa",
           "#FFA15A",
           "#19d3f3",
           "#FF6692",
           "#B6E880",
           "#FF97FF",
           "#FECB52"
          ],
          "font": {
           "color": "#2a3f5f"
          },
          "geo": {
           "bgcolor": "white",
           "lakecolor": "white",
           "landcolor": "#E5ECF6",
           "showlakes": true,
           "showland": true,
           "subunitcolor": "white"
          },
          "hoverlabel": {
           "align": "left"
          },
          "hovermode": "closest",
          "mapbox": {
           "style": "light"
          },
          "paper_bgcolor": "white",
          "plot_bgcolor": "#E5ECF6",
          "polar": {
           "angularaxis": {
            "gridcolor": "white",
            "linecolor": "white",
            "ticks": ""
           },
           "bgcolor": "#E5ECF6",
           "radialaxis": {
            "gridcolor": "white",
            "linecolor": "white",
            "ticks": ""
           }
          },
          "scene": {
           "xaxis": {
            "backgroundcolor": "#E5ECF6",
            "gridcolor": "white",
            "gridwidth": 2,
            "linecolor": "white",
            "showbackground": true,
            "ticks": "",
            "zerolinecolor": "white"
           },
           "yaxis": {
            "backgroundcolor": "#E5ECF6",
            "gridcolor": "white",
            "gridwidth": 2,
            "linecolor": "white",
            "showbackground": true,
            "ticks": "",
            "zerolinecolor": "white"
           },
           "zaxis": {
            "backgroundcolor": "#E5ECF6",
            "gridcolor": "white",
            "gridwidth": 2,
            "linecolor": "white",
            "showbackground": true,
            "ticks": "",
            "zerolinecolor": "white"
           }
          },
          "shapedefaults": {
           "line": {
            "color": "#2a3f5f"
           }
          },
          "ternary": {
           "aaxis": {
            "gridcolor": "white",
            "linecolor": "white",
            "ticks": ""
           },
           "baxis": {
            "gridcolor": "white",
            "linecolor": "white",
            "ticks": ""
           },
           "bgcolor": "#E5ECF6",
           "caxis": {
            "gridcolor": "white",
            "linecolor": "white",
            "ticks": ""
           }
          },
          "title": {
           "x": 0.05
          },
          "xaxis": {
           "automargin": true,
           "gridcolor": "white",
           "linecolor": "white",
           "ticks": "",
           "title": {
            "standoff": 15
           },
           "zerolinecolor": "white",
           "zerolinewidth": 2
          },
          "yaxis": {
           "automargin": true,
           "gridcolor": "white",
           "linecolor": "white",
           "ticks": "",
           "title": {
            "standoff": 15
           },
           "zerolinecolor": "white",
           "zerolinewidth": 2
          }
         }
        },
        "title": {
         "text": "Price Over Time"
        },
        "width": 900,
        "xaxis": {
         "anchor": "y",
         "autorange": true,
         "domain": [
          0,
          1
         ],
         "range": [
          "2023-03-03 20:01:05.6036",
          "2023-04-12 03:58:54.3964"
         ],
         "title": {
          "text": "Auction End Date"
         },
         "type": "date"
        },
        "yaxis": {
         "anchor": "x",
         "autorange": true,
         "domain": [
          0,
          1
         ],
         "range": [
          97.09700996677739,
          1111.794684385382
         ],
         "title": {
          "text": "Price"
         },
         "type": "linear"
        }
       }
      },
      "image/png": "[encoded data removed]",
      "text/html": [
       "<div>                            <div id=\"63d28fff-d7f8-4f92-8d14-ba6162b03ad3\" class=\"plotly-graph-div\" style=\"height:600px; width:900px;\"></div>            <script type=\"text/javascript\">                require([\"plotly\"], function(Plotly) {                    window.PLOTLYENV=window.PLOTLYENV || {};                                    if (document.getElementById(\"63d28fff-d7f8-4f92-8d14-ba6162b03ad3\")) {                    Plotly.newPlot(                        \"63d28fff-d7f8-4f92-8d14-ba6162b03ad3\",                        [{\"customdata\":[[\"wild turkey 12 year old 101 proof limited edition 1991\",5122099],[\"wild turkey 12 year old 101 proof limited edition 1989\",5123426],[\"wild turkey 12 year old 101 proof limited edition 1992\",5123432],[\"wild turkey 12 year old 101 proof limited edition 1991\",5124889],[\"wild turkey 12 year old 101 proof limited edition 1988\",5124895],[\"wild turkey 12 year old 101 proof limited edition 1988\",5130493],[\"wild turkey 12 year old 101 proof limited edition 1991\",5114259],[\"wild turkey 12 year old 101 proof limited edition 1990\",5118762],[\"wild turkey 12 year old 101 proof limited edition 1988\",5118772],[\"wild turkey 12 year old 101 proof limited edition 1992\",5118763],[\"wild turkey 12 year old 101 proof limited edition 1991\",5120620]],\"hovertemplate\":\"Auction End Date=%{x}<br>Price=%{y}<br>name=%{customdata[0]}<br>Lot Number=%{customdata[1]}<extra></extra>\",\"legendgroup\":\"\",\"marker\":{\"color\":\"#636efa\",\"symbol\":\"circle\"},\"mode\":\"markers\",\"name\":\"\",\"orientation\":\"v\",\"showlegend\":false,\"x\":[\"2023-04-10T00:00:00\",\"2023-04-10T00:00:00\",\"2023-04-10T00:00:00\",\"2023-04-10T00:00:00\",\"2023-04-10T00:00:00\",\"2023-04-10T00:00:00\",\"2023-03-06T00:00:00\",\"2023-03-06T00:00:00\",\"2023-03-06T00:00:00\",\"2023-03-06T00:00:00\",\"2023-03-06T00:00:00\"],\"xaxis\":\"x\",\"y\":[750,926,700,800,926,975,890,968,1052,851,876],\"yaxis\":\"y\",\"type\":\"scatter\"}],                        {\"template\":{\"data\":{\"histogram2dcontour\":[{\"type\":\"histogram2dcontour\",\"colorbar\":{\"outlinewidth\":0,\"ticks\":\"\"},\"colorscale\":[[0.0,\"#0d0887\"],[0.1111111111111111,\"#46039f\"],[0.2222222222222222,\"#7201a8\"],[0.3333333333333333,\"#9c179e\"],[0.4444444444444444,\"#bd3786\"],[0.5555555555555556,\"#d8576b\"],[0.6666666666666666,\"#ed7953\"],[0.7777777777777778,\"#fb9f3a\"],[0.8888888888888888,\"#fdca26\"],[1.0,\"#f0f921\"]]}],\"choropleth\":[{\"type\":\"choropleth\",\"colorbar\":{\"outlinewidth\":0,\"ticks\":\"\"}}],\"histogram2d\":[{\"type\":\"histogram2d\",\"colorbar\":{\"outlinewidth\":0,\"ticks\":\"\"},\"colorscale\":[[0.0,\"#0d0887\"],[0.1111111111111111,\"#46039f\"],[0.2222222222222222,\"#7201a8\"],[0.3333333333333333,\"#9c179e\"],[0.4444444444444444,\"#bd3786\"],[0.5555555555555556,\"#d8576b\"],[0.6666666666666666,\"#ed7953\"],[0.7777777777777778,\"#fb9f3a\"],[0.8888888888888888,\"#fdca26\"],[1.0,\"#f0f921\"]]}],\"heatmap\":[{\"type\":\"heatmap\",\"colorbar\":{\"outlinewidth\":0,\"ticks\":\"\"},\"colorscale\":[[0.0,\"#0d0887\"],[0.1111111111111111,\"#46039f\"],[0.2222222222222222,\"#7201a8\"],[0.3333333333333333,\"#9c179e\"],[0.4444444444444444,\"#bd3786\"],[0.5555555555555556,\"#d8576b\"],[0.6666666666666666,\"#ed7953\"],[0.7777777777777778,\"#fb9f3a\"],[0.8888888888888888,\"#fdca26\"],[1.0,\"#f0f921\"]]}],\"heatmapgl\":[{\"type\":\"heatmapgl\",\"colorbar\":{\"outlinewidth\":0,\"ticks\":\"\"},\"colorscale\":[[0.0,\"#0d0887\"],[0.1111111111111111,\"#46039f\"],[0.2222222222222222,\"#7201a8\"],[0.3333333333333333,\"#9c179e\"],[0.4444444444444444,\"#bd3786\"],[0.5555555555555556,\"#d8576b\"],[0.6666666666666666,\"#ed7953\"],[0.7777777777777778,\"#fb9f3a\"],[0.8888888888888888,\"#fdca26\"],[1.0,\"#f0f921\"]]}],\"contourcarpet\":[{\"type\":\"contourcarpet\",\"colorbar\":{\"outlinewidth\":0,\"ticks\":\"\"}}],\"contour\":[{\"type\":\"contour\",\"colorbar\":{\"outlinewidth\":0,\"ticks\":\"\"},\"colorscale\":[[0.0,\"#0d0887\"],[0.1111111111111111,\"#46039f\"],[0.2222222222222222,\"#7201a8\"],[0.3333333333333333,\"#9c179e\"],[0.4444444444444444,\"#bd3786\"],[0.5555555555555556,\"#d8576b\"],[0.6666666666666666,\"#ed7953\"],[0.7777777777777778,\"#fb9f3a\"],[0.8888888888888888,\"#fdca26\"],[1.0,\"#f0f921\"]]}],\"surface\":[{\"type\":\"surface\",\"colorbar\":{\"outlinewidth\":0,\"ticks\":\"\"},\"colorscale\":[[0.0,\"#0d0887\"],[0.1111111111111111,\"#46039f\"],[0.2222222222222222,\"#7201a8\"],[0.3333333333333333,\"#9c179e\"],[0.4444444444444444,\"#bd3786\"],[0.5555555555555556,\"#d8576b\"],[0.6666666666666666,\"#ed7953\"],[0.7777777777777778,\"#fb9f3a\"],[0.8888888888888888,\"#fdca26\"],[1.0,\"#f0f921\"]]}],\"mesh3d\":[{\"type\":\"mesh3d\",\"colorbar\":{\"outlinewidth\":0,\"ticks\":\"\"}}],\"scatter\":[{\"fillpattern\":{\"fillmode\":\"overlay\",\"size\":10,\"solidity\":0.2},\"type\":\"scatter\"}],\"parcoords\":[{\"type\":\"parcoords\",\"line\":{\"colorbar\":{\"outlinewidth\":0,\"ticks\":\"\"}}}],\"scatterpolargl\":[{\"type\":\"scatterpolargl\",\"marker\":{\"colorbar\":{\"outlinewidth\":0,\"ticks\":\"\"}}}],\"bar\":[{\"error_x\":{\"color\":\"#2a3f5f\"},\"error_y\":{\"color\":\"#2a3f5f\"},\"marker\":{\"line\":{\"color\":\"#E5ECF6\",\"width\":0.5},\"pattern\":{\"fillmode\":\"overlay\",\"size\":10,\"solidity\":0.2}},\"type\":\"bar\"}],\"scattergeo\":[{\"type\":\"scattergeo\",\"marker\":{\"colorbar\":{\"outlinewidth\":0,\"ticks\":\"\"}}}],\"scatterpolar\":[{\"type\":\"scatterpolar\",\"marker\":{\"colorbar\":{\"outlinewidth\":0,\"ticks\":\"\"}}}],\"histogram\":[{\"marker\":{\"pattern\":{\"fillmode\":\"overlay\",\"size\":10,\"solidity\":0.2}},\"type\":\"histogram\"}],\"scattergl\":[{\"type\":\"scattergl\",\"marker\":{\"colorbar\":{\"outlinewidth\":0,\"ticks\":\"\"}}}],\"scatter3d\":[{\"type\":\"scatter3d\",\"line\":{\"colorbar\":{\"outlinewidth\":0,\"ticks\":\"\"}},\"marker\":{\"colorbar\":{\"outlinewidth\":0,\"ticks\":\"\"}}}],\"scattermapbox\":[{\"type\":\"scattermapbox\",\"marker\":{\"colorbar\":{\"outlinewidth\":0,\"ticks\":\"\"}}}],\"scatterternary\":[{\"type\":\"scatterternary\",\"marker\":{\"colorbar\":{\"outlinewidth\":0,\"ticks\":\"\"}}}],\"scattercarpet\":[{\"type\":\"scattercarpet\",\"marker\":{\"colorbar\":{\"outlinewidth\":0,\"ticks\":\"\"}}}],\"carpet\":[{\"aaxis\":{\"endlinecolor\":\"#2a3f5f\",\"gridcolor\":\"white\",\"linecolor\":\"white\",\"minorgridcolor\":\"white\",\"startlinecolor\":\"#2a3f5f\"},\"baxis\":{\"endlinecolor\":\"#2a3f5f\",\"gridcolor\":\"white\",\"linecolor\":\"white\",\"minorgridcolor\":\"white\",\"startlinecolor\":\"#2a3f5f\"},\"type\":\"carpet\"}],\"table\":[{\"cells\":{\"fill\":{\"color\":\"#EBF0F8\"},\"line\":{\"color\":\"white\"}},\"header\":{\"fill\":{\"color\":\"#C8D4E3\"},\"line\":{\"color\":\"white\"}},\"type\":\"table\"}],\"barpolar\":[{\"marker\":{\"line\":{\"color\":\"#E5ECF6\",\"width\":0.5},\"pattern\":{\"fillmode\":\"overlay\",\"size\":10,\"solidity\":0.2}},\"type\":\"barpolar\"}],\"pie\":[{\"automargin\":true,\"type\":\"pie\"}]},\"layout\":{\"autotypenumbers\":\"strict\",\"colorway\":[\"#636efa\",\"#EF553B\",\"#00cc96\",\"#ab63fa\",\"#FFA15A\",\"#19d3f3\",\"#FF6692\",\"#B6E880\",\"#FF97FF\",\"#FECB52\"],\"font\":{\"color\":\"#2a3f5f\"},\"hovermode\":\"closest\",\"hoverlabel\":{\"align\":\"left\"},\"paper_bgcolor\":\"white\",\"plot_bgcolor\":\"#E5ECF6\",\"polar\":{\"bgcolor\":\"#E5ECF6\",\"angularaxis\":{\"gridcolor\":\"white\",\"linecolor\":\"white\",\"ticks\":\"\"},\"radialaxis\":{\"gridcolor\":\"white\",\"linecolor\":\"white\",\"ticks\":\"\"}},\"ternary\":{\"bgcolor\":\"#E5ECF6\",\"aaxis\":{\"gridcolor\":\"white\",\"linecolor\":\"white\",\"ticks\":\"\"},\"baxis\":{\"gridcolor\":\"white\",\"linecolor\":\"white\",\"ticks\":\"\"},\"caxis\":{\"gridcolor\":\"white\",\"linecolor\":\"white\",\"ticks\":\"\"}},\"coloraxis\":{\"colorbar\":{\"outlinewidth\":0,\"ticks\":\"\"}},\"colorscale\":{\"sequential\":[[0.0,\"#0d0887\"],[0.1111111111111111,\"#46039f\"],[0.2222222222222222,\"#7201a8\"],[0.3333333333333333,\"#9c179e\"],[0.4444444444444444,\"#bd3786\"],[0.5555555555555556,\"#d8576b\"],[0.6666666666666666,\"#ed7953\"],[0.7777777777777778,\"#fb9f3a\"],[0.8888888888888888,\"#fdca26\"],[1.0,\"#f0f921\"]],\"sequentialminus\":[[0.0,\"#0d0887\"],[0.1111111111111111,\"#46039f\"],[0.2222222222222222,\"#7201a8\"],[0.3333333333333333,\"#9c179e\"],[0.4444444444444444,\"#bd3786\"],[0.5555555555555556,\"#d8576b\"],[0.6666666666666666,\"#ed7953\"],[0.7777777777777778,\"#fb9f3a\"],[0.8888888888888888,\"#fdca26\"],[1.0,\"#f0f921\"]],\"diverging\":[[0,\"#8e0152\"],[0.1,\"#c51b7d\"],[0.2,\"#de77ae\"],[0.3,\"#f1b6da\"],[0.4,\"#fde0ef\"],[0.5,\"#f7f7f7\"],[0.6,\"#e6f5d0\"],[0.7,\"#b8e186\"],[0.8,\"#7fbc41\"],[0.9,\"#4d9221\"],[1,\"#276419\"]]},\"xaxis\":{\"gridcolor\":\"white\",\"linecolor\":\"white\",\"ticks\":\"\",\"title\":{\"standoff\":15},\"zerolinecolor\":\"white\",\"automargin\":true,\"zerolinewidth\":2},\"yaxis\":{\"gridcolor\":\"white\",\"linecolor\":\"white\",\"ticks\":\"\",\"title\":{\"standoff\":15},\"zerolinecolor\":\"white\",\"automargin\":true,\"zerolinewidth\":2},\"scene\":{\"xaxis\":{\"backgroundcolor\":\"#E5ECF6\",\"gridcolor\":\"white\",\"linecolor\":\"white\",\"showbackground\":true,\"ticks\":\"\",\"zerolinecolor\":\"white\",\"gridwidth\":2},\"yaxis\":{\"backgroundcolor\":\"#E5ECF6\",\"gridcolor\":\"white\",\"linecolor\":\"white\",\"showbackground\":true,\"ticks\":\"\",\"zerolinecolor\":\"white\",\"gridwidth\":2},\"zaxis\":{\"backgroundcolor\":\"#E5ECF6\",\"gridcolor\":\"white\",\"linecolor\":\"white\",\"showbackground\":true,\"ticks\":\"\",\"zerolinecolor\":\"white\",\"gridwidth\":2}},\"shapedefaults\":{\"line\":{\"color\":\"#2a3f5f\"}},\"annotationdefaults\":{\"arrowcolor\":\"#2a3f5f\",\"arrowhead\":0,\"arrowwidth\":1},\"geo\":{\"bgcolor\":\"white\",\"landcolor\":\"#E5ECF6\",\"subunitcolor\":\"white\",\"showland\":true,\"showlakes\":true,\"lakecolor\":\"white\"},\"title\":{\"x\":0.05},\"mapbox\":{\"style\":\"light\"}}},\"xaxis\":{\"anchor\":\"y\",\"domain\":[0.0,1.0],\"title\":{\"text\":\"Auction End Date\"}},\"yaxis\":{\"anchor\":\"x\",\"domain\":[0.0,1.0],\"title\":{\"text\":\"Price\"}},\"legend\":{\"tracegroupgap\":0},\"title\":{\"text\":\"Price Over Time\"},\"height\":600,\"width\":900,\"shapes\":[{\"line\":{\"dash\":\"dot\"},\"type\":\"line\",\"x0\":0,\"x1\":1,\"xref\":\"x domain\",\"y0\":143,\"y1\":143,\"yref\":\"y\"}],\"annotations\":[{\"showarrow\":false,\"text\":\"Current Price\",\"x\":1,\"xanchor\":\"right\",\"xref\":\"x domain\",\"y\":143,\"yanchor\":\"top\",\"yref\":\"y\"}]},                        {\"responsive\": true}                    ).then(function(){\n",
       "                            \n",
       "var gd = document.getElementById('63d28fff-d7f8-4f92-8d14-ba6162b03ad3');\n",
       "var x = new MutationObserver(function (mutations, observer) {{\n",
       "        var display = window.getComputedStyle(gd).display;\n",
       "        if (!display || display === 'none') {{\n",
       "            console.log([gd, 'removed!']);\n",
       "            Plotly.purge(gd);\n",
       "            observer.disconnect();\n",
       "        }}\n",
       "}});\n",
       "\n",
       "// Listen for the removal of the full notebook cells\n",
       "var notebookContainer = gd.closest('#notebook-container');\n",
       "if (notebookContainer) {{\n",
       "    x.observe(notebookContainer, {childList: true});\n",
       "}}\n",
       "\n",
       "// Listen for the clearing of the current output cell\n",
       "var outputEl = gd.closest('.output');\n",
       "if (outputEl) {{\n",
       "    x.observe(outputEl, {childList: true});\n",
       "}}\n",
       "\n",
       "                        })                };                });            </script>        </div>"
      ]
     },
     "metadata": {},
     "output_type": "display_data"
    }
   ],
   "source": [
    "search_df_means = search_df[['price', 'end_date']].groupby(\"end_date\").mean()\n",
    "\n",
    "\n",
    "# fig, ax = plt.subplots(figsize=(20,10))\n",
    "# ax.scatter(search_df['end_date'], search_df['price'], s=100)\n",
    "# ax.scatter(search_df_means.index, search_df_means['price'], color = \"red\", s = 100)\n",
    "# ax.plot(search_df_means.index, search_df_means['price'], color = \"red\", linewidth = 5)\n",
    "# ax.tick_params(axis='both', which='major', labelsize=15)\n",
    "\n",
    "# ax.scatter(pd.to_datetime(datetime.today().strftime('%Y-%m-%d')), cur_price, s=100, color = \"green\")\n",
    "\n",
    "fig = px.scatter(search_df, search_df['end_date'], search_df['price'], hover_data = ['name', 'Lot Number'],\n",
    "                labels={\n",
    "                     \"end_date\": \"Auction End Date\",\n",
    "                     \"price\": \"Price\"\n",
    "                 },\n",
    "                title=\"Price Over Time\",\n",
    "                width=900, height=600)\n",
    "fig.add_hline(y=cur_price, line_dash=\"dot\", annotation_text=\"Current Price\", \n",
    "              annotation_position=\"bottom right\")\n",
    "fig.show()"
   ]
  },
  {
   "cell_type": "code",
   "execution_count": null,
   "id": "1522b889-c4e2-4214-9e35-edc3ccd642be",
   "metadata": {},
   "outputs": [],
   "source": [
    "# expression = distillery (ex = Wild Turkey), age, proof, vintage (year), \n",
    "# uniquely identify each expression and track price over time\n",
    "# only care about "
   ]
  }
 ],
 "metadata": {
  "kernelspec": {
   "display_name": "Python 3",
   "language": "python",
   "name": "python3"
  },
  "language_info": {
   "codemirror_mode": {
    "name": "ipython",
    "version": 3
   },
   "file_extension": ".py",
   "mimetype": "text/x-python",
   "name": "python",
   "nbconvert_exporter": "python",
   "pygments_lexer": "ipython3",
   "version": "3.8.8"
  }
 },
 "nbformat": 4,
 "nbformat_minor": 5
}
